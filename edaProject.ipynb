{
  "cells": [
    {
      "cell_type": "markdown",
      "metadata": {
        "id": "view-in-github",
        "colab_type": "text"
      },
      "source": [
        "<a href=\"https://colab.research.google.com/github/mohitsingh07/Playstore-App-Review-dataset/blob/main/edaProject.ipynb\" target=\"_parent\"><img src=\"https://colab.research.google.com/assets/colab-badge.svg\" alt=\"Open In Colab\"/></a>"
      ]
    },
    {
      "cell_type": "code",
      "execution_count": 161,
      "id": "99060c45",
      "metadata": {
        "id": "99060c45"
      },
      "outputs": [],
      "source": [
        "import numpy as np\n",
        "\n",
        "import pandas as pd\n",
        "import matplotlib.pyplot as plt\n",
        "import seaborn as sns"
      ]
    },
    {
      "cell_type": "code",
      "source": [
        "from google.colab import drive\n",
        "drive.mount('/content/drive')"
      ],
      "metadata": {
        "colab": {
          "base_uri": "https://localhost:8080/"
        },
        "id": "r7MpLewPKeFH",
        "outputId": "49131b17-98f8-45a2-aa3a-ac3a2e412560"
      },
      "id": "r7MpLewPKeFH",
      "execution_count": 162,
      "outputs": [
        {
          "output_type": "stream",
          "name": "stdout",
          "text": [
            "Drive already mounted at /content/drive; to attempt to forcibly remount, call drive.mount(\"/content/drive\", force_remount=True).\n"
          ]
        }
      ]
    },
    {
      "cell_type": "code",
      "execution_count": 163,
      "id": "c86527bb",
      "metadata": {
        "scrolled": true,
        "colab": {
          "base_uri": "https://localhost:8080/",
          "height": 441
        },
        "id": "c86527bb",
        "outputId": "9288369c-dd33-4f02-b5f2-a5993538ce9a"
      },
      "outputs": [
        {
          "output_type": "execute_result",
          "data": {
            "text/plain": [
              "                                                 App        Category  Rating  \\\n",
              "0     Photo Editor & Candy Camera & Grid & ScrapBook  ART_AND_DESIGN     4.1   \n",
              "1                                Coloring book moana  ART_AND_DESIGN     3.9   \n",
              "2  U Launcher Lite – FREE Live Cool Themes, Hide ...  ART_AND_DESIGN     4.7   \n",
              "3                              Sketch - Draw & Paint  ART_AND_DESIGN     4.5   \n",
              "4              Pixel Draw - Number Art Coloring Book  ART_AND_DESIGN     4.3   \n",
              "\n",
              "  Reviews  Size     Installs  Type Price Content Rating  \\\n",
              "0     159   19M      10,000+  Free     0       Everyone   \n",
              "1     967   14M     500,000+  Free     0       Everyone   \n",
              "2   87510  8.7M   5,000,000+  Free     0       Everyone   \n",
              "3  215644   25M  50,000,000+  Free     0           Teen   \n",
              "4     967  2.8M     100,000+  Free     0       Everyone   \n",
              "\n",
              "                      Genres      Last Updated         Current Ver  \\\n",
              "0               Art & Design   January 7, 2018               1.0.0   \n",
              "1  Art & Design;Pretend Play  January 15, 2018               2.0.0   \n",
              "2               Art & Design    August 1, 2018               1.2.4   \n",
              "3               Art & Design      June 8, 2018  Varies with device   \n",
              "4    Art & Design;Creativity     June 20, 2018                 1.1   \n",
              "\n",
              "    Android Ver  \n",
              "0  4.0.3 and up  \n",
              "1  4.0.3 and up  \n",
              "2  4.0.3 and up  \n",
              "3    4.2 and up  \n",
              "4    4.4 and up  "
            ],
            "text/html": [
              "\n",
              "  <div id=\"df-a3154c65-3f11-4d15-944a-7b305a46adaf\">\n",
              "    <div class=\"colab-df-container\">\n",
              "      <div>\n",
              "<style scoped>\n",
              "    .dataframe tbody tr th:only-of-type {\n",
              "        vertical-align: middle;\n",
              "    }\n",
              "\n",
              "    .dataframe tbody tr th {\n",
              "        vertical-align: top;\n",
              "    }\n",
              "\n",
              "    .dataframe thead th {\n",
              "        text-align: right;\n",
              "    }\n",
              "</style>\n",
              "<table border=\"1\" class=\"dataframe\">\n",
              "  <thead>\n",
              "    <tr style=\"text-align: right;\">\n",
              "      <th></th>\n",
              "      <th>App</th>\n",
              "      <th>Category</th>\n",
              "      <th>Rating</th>\n",
              "      <th>Reviews</th>\n",
              "      <th>Size</th>\n",
              "      <th>Installs</th>\n",
              "      <th>Type</th>\n",
              "      <th>Price</th>\n",
              "      <th>Content Rating</th>\n",
              "      <th>Genres</th>\n",
              "      <th>Last Updated</th>\n",
              "      <th>Current Ver</th>\n",
              "      <th>Android Ver</th>\n",
              "    </tr>\n",
              "  </thead>\n",
              "  <tbody>\n",
              "    <tr>\n",
              "      <th>0</th>\n",
              "      <td>Photo Editor &amp; Candy Camera &amp; Grid &amp; ScrapBook</td>\n",
              "      <td>ART_AND_DESIGN</td>\n",
              "      <td>4.1</td>\n",
              "      <td>159</td>\n",
              "      <td>19M</td>\n",
              "      <td>10,000+</td>\n",
              "      <td>Free</td>\n",
              "      <td>0</td>\n",
              "      <td>Everyone</td>\n",
              "      <td>Art &amp; Design</td>\n",
              "      <td>January 7, 2018</td>\n",
              "      <td>1.0.0</td>\n",
              "      <td>4.0.3 and up</td>\n",
              "    </tr>\n",
              "    <tr>\n",
              "      <th>1</th>\n",
              "      <td>Coloring book moana</td>\n",
              "      <td>ART_AND_DESIGN</td>\n",
              "      <td>3.9</td>\n",
              "      <td>967</td>\n",
              "      <td>14M</td>\n",
              "      <td>500,000+</td>\n",
              "      <td>Free</td>\n",
              "      <td>0</td>\n",
              "      <td>Everyone</td>\n",
              "      <td>Art &amp; Design;Pretend Play</td>\n",
              "      <td>January 15, 2018</td>\n",
              "      <td>2.0.0</td>\n",
              "      <td>4.0.3 and up</td>\n",
              "    </tr>\n",
              "    <tr>\n",
              "      <th>2</th>\n",
              "      <td>U Launcher Lite – FREE Live Cool Themes, Hide ...</td>\n",
              "      <td>ART_AND_DESIGN</td>\n",
              "      <td>4.7</td>\n",
              "      <td>87510</td>\n",
              "      <td>8.7M</td>\n",
              "      <td>5,000,000+</td>\n",
              "      <td>Free</td>\n",
              "      <td>0</td>\n",
              "      <td>Everyone</td>\n",
              "      <td>Art &amp; Design</td>\n",
              "      <td>August 1, 2018</td>\n",
              "      <td>1.2.4</td>\n",
              "      <td>4.0.3 and up</td>\n",
              "    </tr>\n",
              "    <tr>\n",
              "      <th>3</th>\n",
              "      <td>Sketch - Draw &amp; Paint</td>\n",
              "      <td>ART_AND_DESIGN</td>\n",
              "      <td>4.5</td>\n",
              "      <td>215644</td>\n",
              "      <td>25M</td>\n",
              "      <td>50,000,000+</td>\n",
              "      <td>Free</td>\n",
              "      <td>0</td>\n",
              "      <td>Teen</td>\n",
              "      <td>Art &amp; Design</td>\n",
              "      <td>June 8, 2018</td>\n",
              "      <td>Varies with device</td>\n",
              "      <td>4.2 and up</td>\n",
              "    </tr>\n",
              "    <tr>\n",
              "      <th>4</th>\n",
              "      <td>Pixel Draw - Number Art Coloring Book</td>\n",
              "      <td>ART_AND_DESIGN</td>\n",
              "      <td>4.3</td>\n",
              "      <td>967</td>\n",
              "      <td>2.8M</td>\n",
              "      <td>100,000+</td>\n",
              "      <td>Free</td>\n",
              "      <td>0</td>\n",
              "      <td>Everyone</td>\n",
              "      <td>Art &amp; Design;Creativity</td>\n",
              "      <td>June 20, 2018</td>\n",
              "      <td>1.1</td>\n",
              "      <td>4.4 and up</td>\n",
              "    </tr>\n",
              "  </tbody>\n",
              "</table>\n",
              "</div>\n",
              "      <button class=\"colab-df-convert\" onclick=\"convertToInteractive('df-a3154c65-3f11-4d15-944a-7b305a46adaf')\"\n",
              "              title=\"Convert this dataframe to an interactive table.\"\n",
              "              style=\"display:none;\">\n",
              "        \n",
              "  <svg xmlns=\"http://www.w3.org/2000/svg\" height=\"24px\"viewBox=\"0 0 24 24\"\n",
              "       width=\"24px\">\n",
              "    <path d=\"M0 0h24v24H0V0z\" fill=\"none\"/>\n",
              "    <path d=\"M18.56 5.44l.94 2.06.94-2.06 2.06-.94-2.06-.94-.94-2.06-.94 2.06-2.06.94zm-11 1L8.5 8.5l.94-2.06 2.06-.94-2.06-.94L8.5 2.5l-.94 2.06-2.06.94zm10 10l.94 2.06.94-2.06 2.06-.94-2.06-.94-.94-2.06-.94 2.06-2.06.94z\"/><path d=\"M17.41 7.96l-1.37-1.37c-.4-.4-.92-.59-1.43-.59-.52 0-1.04.2-1.43.59L10.3 9.45l-7.72 7.72c-.78.78-.78 2.05 0 2.83L4 21.41c.39.39.9.59 1.41.59.51 0 1.02-.2 1.41-.59l7.78-7.78 2.81-2.81c.8-.78.8-2.07 0-2.86zM5.41 20L4 18.59l7.72-7.72 1.47 1.35L5.41 20z\"/>\n",
              "  </svg>\n",
              "      </button>\n",
              "      \n",
              "  <style>\n",
              "    .colab-df-container {\n",
              "      display:flex;\n",
              "      flex-wrap:wrap;\n",
              "      gap: 12px;\n",
              "    }\n",
              "\n",
              "    .colab-df-convert {\n",
              "      background-color: #E8F0FE;\n",
              "      border: none;\n",
              "      border-radius: 50%;\n",
              "      cursor: pointer;\n",
              "      display: none;\n",
              "      fill: #1967D2;\n",
              "      height: 32px;\n",
              "      padding: 0 0 0 0;\n",
              "      width: 32px;\n",
              "    }\n",
              "\n",
              "    .colab-df-convert:hover {\n",
              "      background-color: #E2EBFA;\n",
              "      box-shadow: 0px 1px 2px rgba(60, 64, 67, 0.3), 0px 1px 3px 1px rgba(60, 64, 67, 0.15);\n",
              "      fill: #174EA6;\n",
              "    }\n",
              "\n",
              "    [theme=dark] .colab-df-convert {\n",
              "      background-color: #3B4455;\n",
              "      fill: #D2E3FC;\n",
              "    }\n",
              "\n",
              "    [theme=dark] .colab-df-convert:hover {\n",
              "      background-color: #434B5C;\n",
              "      box-shadow: 0px 1px 3px 1px rgba(0, 0, 0, 0.15);\n",
              "      filter: drop-shadow(0px 1px 2px rgba(0, 0, 0, 0.3));\n",
              "      fill: #FFFFFF;\n",
              "    }\n",
              "  </style>\n",
              "\n",
              "      <script>\n",
              "        const buttonEl =\n",
              "          document.querySelector('#df-a3154c65-3f11-4d15-944a-7b305a46adaf button.colab-df-convert');\n",
              "        buttonEl.style.display =\n",
              "          google.colab.kernel.accessAllowed ? 'block' : 'none';\n",
              "\n",
              "        async function convertToInteractive(key) {\n",
              "          const element = document.querySelector('#df-a3154c65-3f11-4d15-944a-7b305a46adaf');\n",
              "          const dataTable =\n",
              "            await google.colab.kernel.invokeFunction('convertToInteractive',\n",
              "                                                     [key], {});\n",
              "          if (!dataTable) return;\n",
              "\n",
              "          const docLinkHtml = 'Like what you see? Visit the ' +\n",
              "            '<a target=\"_blank\" href=https://colab.research.google.com/notebooks/data_table.ipynb>data table notebook</a>'\n",
              "            + ' to learn more about interactive tables.';\n",
              "          element.innerHTML = '';\n",
              "          dataTable['output_type'] = 'display_data';\n",
              "          await google.colab.output.renderOutput(dataTable, element);\n",
              "          const docLink = document.createElement('div');\n",
              "          docLink.innerHTML = docLinkHtml;\n",
              "          element.appendChild(docLink);\n",
              "        }\n",
              "      </script>\n",
              "    </div>\n",
              "  </div>\n",
              "  "
            ]
          },
          "metadata": {},
          "execution_count": 163
        }
      ],
      "source": [
        "inp0 = pd.read_csv(\"/content/drive/MyDrive/eda /googleplaystore.csv\")\n",
        "inp0.head()"
      ]
    },
    {
      "cell_type": "code",
      "execution_count": 164,
      "id": "42c5312e",
      "metadata": {
        "colab": {
          "base_uri": "https://localhost:8080/"
        },
        "id": "42c5312e",
        "outputId": "c1d34f44-eeae-4277-bca7-e9fb94068175"
      },
      "outputs": [
        {
          "output_type": "execute_result",
          "data": {
            "text/plain": [
              "(10841, 13)"
            ]
          },
          "metadata": {},
          "execution_count": 164
        }
      ],
      "source": [
        "inp0.shape\n"
      ]
    },
    {
      "cell_type": "code",
      "execution_count": 165,
      "id": "84582d19",
      "metadata": {
        "colab": {
          "base_uri": "https://localhost:8080/"
        },
        "id": "84582d19",
        "outputId": "331fb041-c3e2-4ee4-ad27-a4e63aaf7ed0"
      },
      "outputs": [
        {
          "output_type": "stream",
          "name": "stdout",
          "text": [
            "<class 'pandas.core.frame.DataFrame'>\n",
            "RangeIndex: 10841 entries, 0 to 10840\n",
            "Data columns (total 13 columns):\n",
            " #   Column          Non-Null Count  Dtype  \n",
            "---  ------          --------------  -----  \n",
            " 0   App             10841 non-null  object \n",
            " 1   Category        10841 non-null  object \n",
            " 2   Rating          9367 non-null   float64\n",
            " 3   Reviews         10841 non-null  object \n",
            " 4   Size            10841 non-null  object \n",
            " 5   Installs        10841 non-null  object \n",
            " 6   Type            10840 non-null  object \n",
            " 7   Price           10841 non-null  object \n",
            " 8   Content Rating  10840 non-null  object \n",
            " 9   Genres          10841 non-null  object \n",
            " 10  Last Updated    10841 non-null  object \n",
            " 11  Current Ver     10833 non-null  object \n",
            " 12  Android Ver     10838 non-null  object \n",
            "dtypes: float64(1), object(12)\n",
            "memory usage: 1.1+ MB\n"
          ]
        }
      ],
      "source": [
        "inp0.info()"
      ]
    },
    {
      "cell_type": "code",
      "execution_count": 166,
      "id": "2f6c3986",
      "metadata": {
        "colab": {
          "base_uri": "https://localhost:8080/"
        },
        "id": "2f6c3986",
        "outputId": "5991c37f-3831-4840-9065-739ef709897a"
      },
      "outputs": [
        {
          "output_type": "execute_result",
          "data": {
            "text/plain": [
              "App                  0\n",
              "Category             0\n",
              "Rating            1474\n",
              "Reviews              0\n",
              "Size                 0\n",
              "Installs             0\n",
              "Type                 1\n",
              "Price                0\n",
              "Content Rating       1\n",
              "Genres               0\n",
              "Last Updated         0\n",
              "Current Ver          8\n",
              "Android Ver          3\n",
              "dtype: int64"
            ]
          },
          "metadata": {},
          "execution_count": 166
        }
      ],
      "source": [
        "inp0.isnull().sum()"
      ]
    },
    {
      "cell_type": "markdown",
      "id": "54912565",
      "metadata": {
        "collapsed": true,
        "id": "54912565"
      },
      "source": [
        "## Handling missing values of rating"
      ]
    },
    {
      "cell_type": "code",
      "execution_count": 167,
      "id": "52fd4b66",
      "metadata": {
        "colab": {
          "base_uri": "https://localhost:8080/"
        },
        "id": "52fd4b66",
        "outputId": "1c331bc6-3d27-4330-d7e1-148123d7e1a6"
      },
      "outputs": [
        {
          "output_type": "execute_result",
          "data": {
            "text/plain": [
              "(9367, 13)"
            ]
          },
          "metadata": {},
          "execution_count": 167
        }
      ],
      "source": [
        "inp1 = inp0[~inp0.Rating.isnull()]\n",
        "inp1.shape"
      ]
    },
    {
      "cell_type": "code",
      "execution_count": 168,
      "id": "288b2cd9",
      "metadata": {
        "colab": {
          "base_uri": "https://localhost:8080/"
        },
        "id": "288b2cd9",
        "outputId": "f3d5cdec-9ab1-468d-a769-eef88a9b0f7e"
      },
      "outputs": [
        {
          "output_type": "execute_result",
          "data": {
            "text/plain": [
              "0"
            ]
          },
          "metadata": {},
          "execution_count": 168
        }
      ],
      "source": [
        "inp1.Rating.isnull().sum()\n"
      ]
    },
    {
      "cell_type": "markdown",
      "id": "6cd165f4",
      "metadata": {
        "id": "6cd165f4"
      },
      "source": [
        "### Handling Null values of Android version"
      ]
    },
    {
      "cell_type": "code",
      "execution_count": 169,
      "id": "8f74dd57",
      "metadata": {
        "colab": {
          "base_uri": "https://localhost:8080/",
          "height": 274
        },
        "id": "8f74dd57",
        "outputId": "82138f60-ad86-4a54-885c-583a8cc49ddb"
      },
      "outputs": [
        {
          "output_type": "execute_result",
          "data": {
            "text/plain": [
              "                                           App         Category  Rating  \\\n",
              "4453                    [substratum] Vacuum: P  PERSONALIZATION     4.4   \n",
              "4490                      Pi Dark [substratum]  PERSONALIZATION     4.5   \n",
              "10472  Life Made WI-Fi Touchscreen Photo Frame              1.9    19.0   \n",
              "\n",
              "      Reviews    Size Installs  Type     Price Content Rating  \\\n",
              "4453      230     11M   1,000+  Paid     $1.49       Everyone   \n",
              "4490      189    2.1M  10,000+  Free         0       Everyone   \n",
              "10472    3.0M  1,000+     Free     0  Everyone            NaN   \n",
              "\n",
              "                  Genres    Last Updated Current Ver Android Ver  \n",
              "4453     Personalization   July 20, 2018         4.4         NaN  \n",
              "4490     Personalization  March 27, 2018         1.1         NaN  \n",
              "10472  February 11, 2018          1.0.19  4.0 and up         NaN  "
            ],
            "text/html": [
              "\n",
              "  <div id=\"df-859df804-b53e-4fbe-8f30-20bba139e4c8\">\n",
              "    <div class=\"colab-df-container\">\n",
              "      <div>\n",
              "<style scoped>\n",
              "    .dataframe tbody tr th:only-of-type {\n",
              "        vertical-align: middle;\n",
              "    }\n",
              "\n",
              "    .dataframe tbody tr th {\n",
              "        vertical-align: top;\n",
              "    }\n",
              "\n",
              "    .dataframe thead th {\n",
              "        text-align: right;\n",
              "    }\n",
              "</style>\n",
              "<table border=\"1\" class=\"dataframe\">\n",
              "  <thead>\n",
              "    <tr style=\"text-align: right;\">\n",
              "      <th></th>\n",
              "      <th>App</th>\n",
              "      <th>Category</th>\n",
              "      <th>Rating</th>\n",
              "      <th>Reviews</th>\n",
              "      <th>Size</th>\n",
              "      <th>Installs</th>\n",
              "      <th>Type</th>\n",
              "      <th>Price</th>\n",
              "      <th>Content Rating</th>\n",
              "      <th>Genres</th>\n",
              "      <th>Last Updated</th>\n",
              "      <th>Current Ver</th>\n",
              "      <th>Android Ver</th>\n",
              "    </tr>\n",
              "  </thead>\n",
              "  <tbody>\n",
              "    <tr>\n",
              "      <th>4453</th>\n",
              "      <td>[substratum] Vacuum: P</td>\n",
              "      <td>PERSONALIZATION</td>\n",
              "      <td>4.4</td>\n",
              "      <td>230</td>\n",
              "      <td>11M</td>\n",
              "      <td>1,000+</td>\n",
              "      <td>Paid</td>\n",
              "      <td>$1.49</td>\n",
              "      <td>Everyone</td>\n",
              "      <td>Personalization</td>\n",
              "      <td>July 20, 2018</td>\n",
              "      <td>4.4</td>\n",
              "      <td>NaN</td>\n",
              "    </tr>\n",
              "    <tr>\n",
              "      <th>4490</th>\n",
              "      <td>Pi Dark [substratum]</td>\n",
              "      <td>PERSONALIZATION</td>\n",
              "      <td>4.5</td>\n",
              "      <td>189</td>\n",
              "      <td>2.1M</td>\n",
              "      <td>10,000+</td>\n",
              "      <td>Free</td>\n",
              "      <td>0</td>\n",
              "      <td>Everyone</td>\n",
              "      <td>Personalization</td>\n",
              "      <td>March 27, 2018</td>\n",
              "      <td>1.1</td>\n",
              "      <td>NaN</td>\n",
              "    </tr>\n",
              "    <tr>\n",
              "      <th>10472</th>\n",
              "      <td>Life Made WI-Fi Touchscreen Photo Frame</td>\n",
              "      <td>1.9</td>\n",
              "      <td>19.0</td>\n",
              "      <td>3.0M</td>\n",
              "      <td>1,000+</td>\n",
              "      <td>Free</td>\n",
              "      <td>0</td>\n",
              "      <td>Everyone</td>\n",
              "      <td>NaN</td>\n",
              "      <td>February 11, 2018</td>\n",
              "      <td>1.0.19</td>\n",
              "      <td>4.0 and up</td>\n",
              "      <td>NaN</td>\n",
              "    </tr>\n",
              "  </tbody>\n",
              "</table>\n",
              "</div>\n",
              "      <button class=\"colab-df-convert\" onclick=\"convertToInteractive('df-859df804-b53e-4fbe-8f30-20bba139e4c8')\"\n",
              "              title=\"Convert this dataframe to an interactive table.\"\n",
              "              style=\"display:none;\">\n",
              "        \n",
              "  <svg xmlns=\"http://www.w3.org/2000/svg\" height=\"24px\"viewBox=\"0 0 24 24\"\n",
              "       width=\"24px\">\n",
              "    <path d=\"M0 0h24v24H0V0z\" fill=\"none\"/>\n",
              "    <path d=\"M18.56 5.44l.94 2.06.94-2.06 2.06-.94-2.06-.94-.94-2.06-.94 2.06-2.06.94zm-11 1L8.5 8.5l.94-2.06 2.06-.94-2.06-.94L8.5 2.5l-.94 2.06-2.06.94zm10 10l.94 2.06.94-2.06 2.06-.94-2.06-.94-.94-2.06-.94 2.06-2.06.94z\"/><path d=\"M17.41 7.96l-1.37-1.37c-.4-.4-.92-.59-1.43-.59-.52 0-1.04.2-1.43.59L10.3 9.45l-7.72 7.72c-.78.78-.78 2.05 0 2.83L4 21.41c.39.39.9.59 1.41.59.51 0 1.02-.2 1.41-.59l7.78-7.78 2.81-2.81c.8-.78.8-2.07 0-2.86zM5.41 20L4 18.59l7.72-7.72 1.47 1.35L5.41 20z\"/>\n",
              "  </svg>\n",
              "      </button>\n",
              "      \n",
              "  <style>\n",
              "    .colab-df-container {\n",
              "      display:flex;\n",
              "      flex-wrap:wrap;\n",
              "      gap: 12px;\n",
              "    }\n",
              "\n",
              "    .colab-df-convert {\n",
              "      background-color: #E8F0FE;\n",
              "      border: none;\n",
              "      border-radius: 50%;\n",
              "      cursor: pointer;\n",
              "      display: none;\n",
              "      fill: #1967D2;\n",
              "      height: 32px;\n",
              "      padding: 0 0 0 0;\n",
              "      width: 32px;\n",
              "    }\n",
              "\n",
              "    .colab-df-convert:hover {\n",
              "      background-color: #E2EBFA;\n",
              "      box-shadow: 0px 1px 2px rgba(60, 64, 67, 0.3), 0px 1px 3px 1px rgba(60, 64, 67, 0.15);\n",
              "      fill: #174EA6;\n",
              "    }\n",
              "\n",
              "    [theme=dark] .colab-df-convert {\n",
              "      background-color: #3B4455;\n",
              "      fill: #D2E3FC;\n",
              "    }\n",
              "\n",
              "    [theme=dark] .colab-df-convert:hover {\n",
              "      background-color: #434B5C;\n",
              "      box-shadow: 0px 1px 3px 1px rgba(0, 0, 0, 0.15);\n",
              "      filter: drop-shadow(0px 1px 2px rgba(0, 0, 0, 0.3));\n",
              "      fill: #FFFFFF;\n",
              "    }\n",
              "  </style>\n",
              "\n",
              "      <script>\n",
              "        const buttonEl =\n",
              "          document.querySelector('#df-859df804-b53e-4fbe-8f30-20bba139e4c8 button.colab-df-convert');\n",
              "        buttonEl.style.display =\n",
              "          google.colab.kernel.accessAllowed ? 'block' : 'none';\n",
              "\n",
              "        async function convertToInteractive(key) {\n",
              "          const element = document.querySelector('#df-859df804-b53e-4fbe-8f30-20bba139e4c8');\n",
              "          const dataTable =\n",
              "            await google.colab.kernel.invokeFunction('convertToInteractive',\n",
              "                                                     [key], {});\n",
              "          if (!dataTable) return;\n",
              "\n",
              "          const docLinkHtml = 'Like what you see? Visit the ' +\n",
              "            '<a target=\"_blank\" href=https://colab.research.google.com/notebooks/data_table.ipynb>data table notebook</a>'\n",
              "            + ' to learn more about interactive tables.';\n",
              "          element.innerHTML = '';\n",
              "          dataTable['output_type'] = 'display_data';\n",
              "          await google.colab.output.renderOutput(dataTable, element);\n",
              "          const docLink = document.createElement('div');\n",
              "          docLink.innerHTML = docLinkHtml;\n",
              "          element.appendChild(docLink);\n",
              "        }\n",
              "      </script>\n",
              "    </div>\n",
              "  </div>\n",
              "  "
            ]
          },
          "metadata": {},
          "execution_count": 169
        }
      ],
      "source": [
        "inp1[inp1['Android Ver'].isnull()]"
      ]
    },
    {
      "cell_type": "code",
      "execution_count": 170,
      "id": "1e803602",
      "metadata": {
        "colab": {
          "base_uri": "https://localhost:8080/",
          "height": 177
        },
        "id": "1e803602",
        "outputId": "174a3696-4818-4e89-ac14-b4fec1454113"
      },
      "outputs": [
        {
          "output_type": "execute_result",
          "data": {
            "text/plain": [
              "                                           App Category  Rating Reviews  \\\n",
              "10472  Life Made WI-Fi Touchscreen Photo Frame      1.9    19.0    3.0M   \n",
              "\n",
              "         Size Installs Type     Price Content Rating             Genres  \\\n",
              "10472  1,000+     Free    0  Everyone            NaN  February 11, 2018   \n",
              "\n",
              "      Last Updated Current Ver Android Ver  \n",
              "10472       1.0.19  4.0 and up         NaN  "
            ],
            "text/html": [
              "\n",
              "  <div id=\"df-31982538-dd1a-4f42-b81b-dc1ac6d2e6a3\">\n",
              "    <div class=\"colab-df-container\">\n",
              "      <div>\n",
              "<style scoped>\n",
              "    .dataframe tbody tr th:only-of-type {\n",
              "        vertical-align: middle;\n",
              "    }\n",
              "\n",
              "    .dataframe tbody tr th {\n",
              "        vertical-align: top;\n",
              "    }\n",
              "\n",
              "    .dataframe thead th {\n",
              "        text-align: right;\n",
              "    }\n",
              "</style>\n",
              "<table border=\"1\" class=\"dataframe\">\n",
              "  <thead>\n",
              "    <tr style=\"text-align: right;\">\n",
              "      <th></th>\n",
              "      <th>App</th>\n",
              "      <th>Category</th>\n",
              "      <th>Rating</th>\n",
              "      <th>Reviews</th>\n",
              "      <th>Size</th>\n",
              "      <th>Installs</th>\n",
              "      <th>Type</th>\n",
              "      <th>Price</th>\n",
              "      <th>Content Rating</th>\n",
              "      <th>Genres</th>\n",
              "      <th>Last Updated</th>\n",
              "      <th>Current Ver</th>\n",
              "      <th>Android Ver</th>\n",
              "    </tr>\n",
              "  </thead>\n",
              "  <tbody>\n",
              "    <tr>\n",
              "      <th>10472</th>\n",
              "      <td>Life Made WI-Fi Touchscreen Photo Frame</td>\n",
              "      <td>1.9</td>\n",
              "      <td>19.0</td>\n",
              "      <td>3.0M</td>\n",
              "      <td>1,000+</td>\n",
              "      <td>Free</td>\n",
              "      <td>0</td>\n",
              "      <td>Everyone</td>\n",
              "      <td>NaN</td>\n",
              "      <td>February 11, 2018</td>\n",
              "      <td>1.0.19</td>\n",
              "      <td>4.0 and up</td>\n",
              "      <td>NaN</td>\n",
              "    </tr>\n",
              "  </tbody>\n",
              "</table>\n",
              "</div>\n",
              "      <button class=\"colab-df-convert\" onclick=\"convertToInteractive('df-31982538-dd1a-4f42-b81b-dc1ac6d2e6a3')\"\n",
              "              title=\"Convert this dataframe to an interactive table.\"\n",
              "              style=\"display:none;\">\n",
              "        \n",
              "  <svg xmlns=\"http://www.w3.org/2000/svg\" height=\"24px\"viewBox=\"0 0 24 24\"\n",
              "       width=\"24px\">\n",
              "    <path d=\"M0 0h24v24H0V0z\" fill=\"none\"/>\n",
              "    <path d=\"M18.56 5.44l.94 2.06.94-2.06 2.06-.94-2.06-.94-.94-2.06-.94 2.06-2.06.94zm-11 1L8.5 8.5l.94-2.06 2.06-.94-2.06-.94L8.5 2.5l-.94 2.06-2.06.94zm10 10l.94 2.06.94-2.06 2.06-.94-2.06-.94-.94-2.06-.94 2.06-2.06.94z\"/><path d=\"M17.41 7.96l-1.37-1.37c-.4-.4-.92-.59-1.43-.59-.52 0-1.04.2-1.43.59L10.3 9.45l-7.72 7.72c-.78.78-.78 2.05 0 2.83L4 21.41c.39.39.9.59 1.41.59.51 0 1.02-.2 1.41-.59l7.78-7.78 2.81-2.81c.8-.78.8-2.07 0-2.86zM5.41 20L4 18.59l7.72-7.72 1.47 1.35L5.41 20z\"/>\n",
              "  </svg>\n",
              "      </button>\n",
              "      \n",
              "  <style>\n",
              "    .colab-df-container {\n",
              "      display:flex;\n",
              "      flex-wrap:wrap;\n",
              "      gap: 12px;\n",
              "    }\n",
              "\n",
              "    .colab-df-convert {\n",
              "      background-color: #E8F0FE;\n",
              "      border: none;\n",
              "      border-radius: 50%;\n",
              "      cursor: pointer;\n",
              "      display: none;\n",
              "      fill: #1967D2;\n",
              "      height: 32px;\n",
              "      padding: 0 0 0 0;\n",
              "      width: 32px;\n",
              "    }\n",
              "\n",
              "    .colab-df-convert:hover {\n",
              "      background-color: #E2EBFA;\n",
              "      box-shadow: 0px 1px 2px rgba(60, 64, 67, 0.3), 0px 1px 3px 1px rgba(60, 64, 67, 0.15);\n",
              "      fill: #174EA6;\n",
              "    }\n",
              "\n",
              "    [theme=dark] .colab-df-convert {\n",
              "      background-color: #3B4455;\n",
              "      fill: #D2E3FC;\n",
              "    }\n",
              "\n",
              "    [theme=dark] .colab-df-convert:hover {\n",
              "      background-color: #434B5C;\n",
              "      box-shadow: 0px 1px 3px 1px rgba(0, 0, 0, 0.15);\n",
              "      filter: drop-shadow(0px 1px 2px rgba(0, 0, 0, 0.3));\n",
              "      fill: #FFFFFF;\n",
              "    }\n",
              "  </style>\n",
              "\n",
              "      <script>\n",
              "        const buttonEl =\n",
              "          document.querySelector('#df-31982538-dd1a-4f42-b81b-dc1ac6d2e6a3 button.colab-df-convert');\n",
              "        buttonEl.style.display =\n",
              "          google.colab.kernel.accessAllowed ? 'block' : 'none';\n",
              "\n",
              "        async function convertToInteractive(key) {\n",
              "          const element = document.querySelector('#df-31982538-dd1a-4f42-b81b-dc1ac6d2e6a3');\n",
              "          const dataTable =\n",
              "            await google.colab.kernel.invokeFunction('convertToInteractive',\n",
              "                                                     [key], {});\n",
              "          if (!dataTable) return;\n",
              "\n",
              "          const docLinkHtml = 'Like what you see? Visit the ' +\n",
              "            '<a target=\"_blank\" href=https://colab.research.google.com/notebooks/data_table.ipynb>data table notebook</a>'\n",
              "            + ' to learn more about interactive tables.';\n",
              "          element.innerHTML = '';\n",
              "          dataTable['output_type'] = 'display_data';\n",
              "          await google.colab.output.renderOutput(dataTable, element);\n",
              "          const docLink = document.createElement('div');\n",
              "          docLink.innerHTML = docLinkHtml;\n",
              "          element.appendChild(docLink);\n",
              "        }\n",
              "      </script>\n",
              "    </div>\n",
              "  </div>\n",
              "  "
            ]
          },
          "metadata": {},
          "execution_count": 170
        }
      ],
      "source": [
        "inp1[(inp1['Android Ver'].isnull() & (inp1.Category == '1.9'))]"
      ]
    },
    {
      "cell_type": "code",
      "execution_count": 171,
      "id": "973cb072",
      "metadata": {
        "id": "973cb072"
      },
      "outputs": [],
      "source": [
        "inp1 = inp1[~(inp1['Android Ver'].isnull() & (inp1.Category == '1.9'))]"
      ]
    },
    {
      "cell_type": "code",
      "execution_count": 172,
      "id": "921a09a1",
      "metadata": {
        "colab": {
          "base_uri": "https://localhost:8080/",
          "height": 208
        },
        "id": "921a09a1",
        "outputId": "b1dfd99d-394e-4769-cf4b-965a3b20417e"
      },
      "outputs": [
        {
          "output_type": "execute_result",
          "data": {
            "text/plain": [
              "                         App         Category  Rating Reviews  Size Installs  \\\n",
              "4453  [substratum] Vacuum: P  PERSONALIZATION     4.4     230   11M   1,000+   \n",
              "4490    Pi Dark [substratum]  PERSONALIZATION     4.5     189  2.1M  10,000+   \n",
              "\n",
              "      Type  Price Content Rating           Genres    Last Updated Current Ver  \\\n",
              "4453  Paid  $1.49       Everyone  Personalization   July 20, 2018         4.4   \n",
              "4490  Free      0       Everyone  Personalization  March 27, 2018         1.1   \n",
              "\n",
              "     Android Ver  \n",
              "4453         NaN  \n",
              "4490         NaN  "
            ],
            "text/html": [
              "\n",
              "  <div id=\"df-a3b84e79-75c2-4cac-bda7-0077e7f23596\">\n",
              "    <div class=\"colab-df-container\">\n",
              "      <div>\n",
              "<style scoped>\n",
              "    .dataframe tbody tr th:only-of-type {\n",
              "        vertical-align: middle;\n",
              "    }\n",
              "\n",
              "    .dataframe tbody tr th {\n",
              "        vertical-align: top;\n",
              "    }\n",
              "\n",
              "    .dataframe thead th {\n",
              "        text-align: right;\n",
              "    }\n",
              "</style>\n",
              "<table border=\"1\" class=\"dataframe\">\n",
              "  <thead>\n",
              "    <tr style=\"text-align: right;\">\n",
              "      <th></th>\n",
              "      <th>App</th>\n",
              "      <th>Category</th>\n",
              "      <th>Rating</th>\n",
              "      <th>Reviews</th>\n",
              "      <th>Size</th>\n",
              "      <th>Installs</th>\n",
              "      <th>Type</th>\n",
              "      <th>Price</th>\n",
              "      <th>Content Rating</th>\n",
              "      <th>Genres</th>\n",
              "      <th>Last Updated</th>\n",
              "      <th>Current Ver</th>\n",
              "      <th>Android Ver</th>\n",
              "    </tr>\n",
              "  </thead>\n",
              "  <tbody>\n",
              "    <tr>\n",
              "      <th>4453</th>\n",
              "      <td>[substratum] Vacuum: P</td>\n",
              "      <td>PERSONALIZATION</td>\n",
              "      <td>4.4</td>\n",
              "      <td>230</td>\n",
              "      <td>11M</td>\n",
              "      <td>1,000+</td>\n",
              "      <td>Paid</td>\n",
              "      <td>$1.49</td>\n",
              "      <td>Everyone</td>\n",
              "      <td>Personalization</td>\n",
              "      <td>July 20, 2018</td>\n",
              "      <td>4.4</td>\n",
              "      <td>NaN</td>\n",
              "    </tr>\n",
              "    <tr>\n",
              "      <th>4490</th>\n",
              "      <td>Pi Dark [substratum]</td>\n",
              "      <td>PERSONALIZATION</td>\n",
              "      <td>4.5</td>\n",
              "      <td>189</td>\n",
              "      <td>2.1M</td>\n",
              "      <td>10,000+</td>\n",
              "      <td>Free</td>\n",
              "      <td>0</td>\n",
              "      <td>Everyone</td>\n",
              "      <td>Personalization</td>\n",
              "      <td>March 27, 2018</td>\n",
              "      <td>1.1</td>\n",
              "      <td>NaN</td>\n",
              "    </tr>\n",
              "  </tbody>\n",
              "</table>\n",
              "</div>\n",
              "      <button class=\"colab-df-convert\" onclick=\"convertToInteractive('df-a3b84e79-75c2-4cac-bda7-0077e7f23596')\"\n",
              "              title=\"Convert this dataframe to an interactive table.\"\n",
              "              style=\"display:none;\">\n",
              "        \n",
              "  <svg xmlns=\"http://www.w3.org/2000/svg\" height=\"24px\"viewBox=\"0 0 24 24\"\n",
              "       width=\"24px\">\n",
              "    <path d=\"M0 0h24v24H0V0z\" fill=\"none\"/>\n",
              "    <path d=\"M18.56 5.44l.94 2.06.94-2.06 2.06-.94-2.06-.94-.94-2.06-.94 2.06-2.06.94zm-11 1L8.5 8.5l.94-2.06 2.06-.94-2.06-.94L8.5 2.5l-.94 2.06-2.06.94zm10 10l.94 2.06.94-2.06 2.06-.94-2.06-.94-.94-2.06-.94 2.06-2.06.94z\"/><path d=\"M17.41 7.96l-1.37-1.37c-.4-.4-.92-.59-1.43-.59-.52 0-1.04.2-1.43.59L10.3 9.45l-7.72 7.72c-.78.78-.78 2.05 0 2.83L4 21.41c.39.39.9.59 1.41.59.51 0 1.02-.2 1.41-.59l7.78-7.78 2.81-2.81c.8-.78.8-2.07 0-2.86zM5.41 20L4 18.59l7.72-7.72 1.47 1.35L5.41 20z\"/>\n",
              "  </svg>\n",
              "      </button>\n",
              "      \n",
              "  <style>\n",
              "    .colab-df-container {\n",
              "      display:flex;\n",
              "      flex-wrap:wrap;\n",
              "      gap: 12px;\n",
              "    }\n",
              "\n",
              "    .colab-df-convert {\n",
              "      background-color: #E8F0FE;\n",
              "      border: none;\n",
              "      border-radius: 50%;\n",
              "      cursor: pointer;\n",
              "      display: none;\n",
              "      fill: #1967D2;\n",
              "      height: 32px;\n",
              "      padding: 0 0 0 0;\n",
              "      width: 32px;\n",
              "    }\n",
              "\n",
              "    .colab-df-convert:hover {\n",
              "      background-color: #E2EBFA;\n",
              "      box-shadow: 0px 1px 2px rgba(60, 64, 67, 0.3), 0px 1px 3px 1px rgba(60, 64, 67, 0.15);\n",
              "      fill: #174EA6;\n",
              "    }\n",
              "\n",
              "    [theme=dark] .colab-df-convert {\n",
              "      background-color: #3B4455;\n",
              "      fill: #D2E3FC;\n",
              "    }\n",
              "\n",
              "    [theme=dark] .colab-df-convert:hover {\n",
              "      background-color: #434B5C;\n",
              "      box-shadow: 0px 1px 3px 1px rgba(0, 0, 0, 0.15);\n",
              "      filter: drop-shadow(0px 1px 2px rgba(0, 0, 0, 0.3));\n",
              "      fill: #FFFFFF;\n",
              "    }\n",
              "  </style>\n",
              "\n",
              "      <script>\n",
              "        const buttonEl =\n",
              "          document.querySelector('#df-a3b84e79-75c2-4cac-bda7-0077e7f23596 button.colab-df-convert');\n",
              "        buttonEl.style.display =\n",
              "          google.colab.kernel.accessAllowed ? 'block' : 'none';\n",
              "\n",
              "        async function convertToInteractive(key) {\n",
              "          const element = document.querySelector('#df-a3b84e79-75c2-4cac-bda7-0077e7f23596');\n",
              "          const dataTable =\n",
              "            await google.colab.kernel.invokeFunction('convertToInteractive',\n",
              "                                                     [key], {});\n",
              "          if (!dataTable) return;\n",
              "\n",
              "          const docLinkHtml = 'Like what you see? Visit the ' +\n",
              "            '<a target=\"_blank\" href=https://colab.research.google.com/notebooks/data_table.ipynb>data table notebook</a>'\n",
              "            + ' to learn more about interactive tables.';\n",
              "          element.innerHTML = '';\n",
              "          dataTable['output_type'] = 'display_data';\n",
              "          await google.colab.output.renderOutput(dataTable, element);\n",
              "          const docLink = document.createElement('div');\n",
              "          docLink.innerHTML = docLinkHtml;\n",
              "          element.appendChild(docLink);\n",
              "        }\n",
              "      </script>\n",
              "    </div>\n",
              "  </div>\n",
              "  "
            ]
          },
          "metadata": {},
          "execution_count": 172
        }
      ],
      "source": [
        "inp1[inp1['Android Ver'].isnull()]"
      ]
    },
    {
      "cell_type": "markdown",
      "id": "f20f583b",
      "metadata": {
        "id": "f20f583b"
      },
      "source": [
        "### THE most common values in android version"
      ]
    },
    {
      "cell_type": "code",
      "execution_count": 173,
      "id": "30caf031",
      "metadata": {
        "colab": {
          "base_uri": "https://localhost:8080/"
        },
        "id": "30caf031",
        "outputId": "5f74c362-79b6-46bc-e29a-5d685a78d557"
      },
      "outputs": [
        {
          "output_type": "execute_result",
          "data": {
            "text/plain": [
              "4.1 and up            2059\n",
              "Varies with device    1319\n",
              "4.0.3 and up          1240\n",
              "4.0 and up            1131\n",
              "4.4 and up             875\n",
              "2.3 and up             582\n",
              "5.0 and up             535\n",
              "4.2 and up             338\n",
              "2.3.3 and up           240\n",
              "3.0 and up             211\n",
              "2.2 and up             208\n",
              "4.3 and up             207\n",
              "2.1 and up             113\n",
              "1.6 and up              87\n",
              "6.0 and up              48\n",
              "7.0 and up              41\n",
              "3.2 and up              31\n",
              "2.0 and up              27\n",
              "5.1 and up              18\n",
              "1.5 and up              16\n",
              "3.1 and up               8\n",
              "2.0.1 and up             7\n",
              "4.4W and up              6\n",
              "8.0 and up               5\n",
              "7.1 and up               3\n",
              "4.0.3 - 7.1.1            2\n",
              "5.0 - 8.0                2\n",
              "1.0 and up               2\n",
              "7.0 - 7.1.1              1\n",
              "4.1 - 7.1.1              1\n",
              "5.0 - 6.0                1\n",
              "Name: Android Ver, dtype: int64"
            ]
          },
          "metadata": {},
          "execution_count": 173
        }
      ],
      "source": [
        "inp1['Android Ver'].value_counts()"
      ]
    },
    {
      "cell_type": "code",
      "execution_count": 174,
      "id": "d378d0fe",
      "metadata": {
        "colab": {
          "base_uri": "https://localhost:8080/",
          "height": 36
        },
        "id": "d378d0fe",
        "outputId": "e2653748-5253-41d8-c463-e00b21df2660"
      },
      "outputs": [
        {
          "output_type": "execute_result",
          "data": {
            "text/plain": [
              "'4.1 and up'"
            ],
            "application/vnd.google.colaboratory.intrinsic+json": {
              "type": "string"
            }
          },
          "metadata": {},
          "execution_count": 174
        }
      ],
      "source": [
        "inp1['Android Ver'].mode()[0]"
      ]
    },
    {
      "cell_type": "markdown",
      "id": "28b10903",
      "metadata": {
        "id": "28b10903"
      },
      "source": [
        "### Filling the nan values with this values"
      ]
    },
    {
      "cell_type": "code",
      "execution_count": 175,
      "id": "12e87654",
      "metadata": {
        "colab": {
          "base_uri": "https://localhost:8080/"
        },
        "id": "12e87654",
        "outputId": "575310cc-5916-46a3-c669-81eb38dd985f"
      },
      "outputs": [
        {
          "output_type": "stream",
          "name": "stderr",
          "text": [
            "/usr/local/lib/python3.7/dist-packages/ipykernel_launcher.py:1: SettingWithCopyWarning: \n",
            "A value is trying to be set on a copy of a slice from a DataFrame.\n",
            "Try using .loc[row_indexer,col_indexer] = value instead\n",
            "\n",
            "See the caveats in the documentation: https://pandas.pydata.org/pandas-docs/stable/user_guide/indexing.html#returning-a-view-versus-a-copy\n",
            "  \"\"\"Entry point for launching an IPython kernel.\n"
          ]
        }
      ],
      "source": [
        "inp1['Android Ver']=inp1['Android Ver'].fillna(inp1['Android Ver'].mode()[0])"
      ]
    },
    {
      "cell_type": "code",
      "execution_count": 176,
      "id": "3e4da025",
      "metadata": {
        "colab": {
          "base_uri": "https://localhost:8080/"
        },
        "id": "3e4da025",
        "outputId": "3ed11e37-d4b8-46aa-cc9a-110beba1d78f"
      },
      "outputs": [
        {
          "output_type": "execute_result",
          "data": {
            "text/plain": [
              "0"
            ]
          },
          "metadata": {},
          "execution_count": 176
        }
      ],
      "source": [
        "inp1['Android Ver'].isnull().sum()"
      ]
    },
    {
      "cell_type": "markdown",
      "id": "8f925413",
      "metadata": {
        "id": "8f925413"
      },
      "source": [
        "### MISSING VALUES IN CURRENT VER"
      ]
    },
    {
      "cell_type": "code",
      "execution_count": 177,
      "id": "fc6c7e0f",
      "metadata": {
        "colab": {
          "base_uri": "https://localhost:8080/"
        },
        "id": "fc6c7e0f",
        "outputId": "fe355663-60ee-47b6-f12f-f721cf669b1c"
      },
      "outputs": [
        {
          "output_type": "execute_result",
          "data": {
            "text/plain": [
              "Varies with device    1415\n",
              "1.0                    458\n",
              "1.1                    195\n",
              "1.2                    126\n",
              "1.3                    120\n",
              "                      ... \n",
              "2.9.10                   1\n",
              "3.18.5                   1\n",
              "1.3.A.2.9                1\n",
              "9.9.1.1910               1\n",
              "0.3.4                    1\n",
              "Name: Current Ver, Length: 2638, dtype: int64"
            ]
          },
          "metadata": {},
          "execution_count": 177
        }
      ],
      "source": [
        "inp1['Current Ver'].value_counts()"
      ]
    },
    {
      "cell_type": "markdown",
      "id": "1677d10b",
      "metadata": {
        "id": "1677d10b"
      },
      "source": [
        "### replace the missing words with varies with device "
      ]
    },
    {
      "cell_type": "code",
      "execution_count": 178,
      "id": "c99a00be",
      "metadata": {
        "colab": {
          "base_uri": "https://localhost:8080/"
        },
        "id": "c99a00be",
        "outputId": "7c5eebcd-6747-4c79-95ec-2e61e1f2f590"
      },
      "outputs": [
        {
          "output_type": "stream",
          "name": "stderr",
          "text": [
            "/usr/local/lib/python3.7/dist-packages/ipykernel_launcher.py:1: SettingWithCopyWarning: \n",
            "A value is trying to be set on a copy of a slice from a DataFrame.\n",
            "Try using .loc[row_indexer,col_indexer] = value instead\n",
            "\n",
            "See the caveats in the documentation: https://pandas.pydata.org/pandas-docs/stable/user_guide/indexing.html#returning-a-view-versus-a-copy\n",
            "  \"\"\"Entry point for launching an IPython kernel.\n"
          ]
        }
      ],
      "source": [
        "inp1['Current Ver'] =inp1['Current Ver'].fillna(inp1['Current Ver'].mode()[0])"
      ]
    },
    {
      "cell_type": "code",
      "execution_count": 179,
      "id": "4e61cc93",
      "metadata": {
        "colab": {
          "base_uri": "https://localhost:8080/"
        },
        "id": "4e61cc93",
        "outputId": "7518c2dc-a52c-4879-a0d1-4672f342a9b4"
      },
      "outputs": [
        {
          "output_type": "execute_result",
          "data": {
            "text/plain": [
              "0"
            ]
          },
          "metadata": {},
          "execution_count": 179
        }
      ],
      "source": [
        "inp1['Current Ver'].isnull().sum()"
      ]
    },
    {
      "cell_type": "code",
      "execution_count": 180,
      "id": "c2d0f9ca",
      "metadata": {
        "colab": {
          "base_uri": "https://localhost:8080/"
        },
        "id": "c2d0f9ca",
        "outputId": "6c3771c3-5586-43f3-b9ad-ccbe63a004d6"
      },
      "outputs": [
        {
          "output_type": "execute_result",
          "data": {
            "text/plain": [
              "App               0\n",
              "Category          0\n",
              "Rating            0\n",
              "Reviews           0\n",
              "Size              0\n",
              "Installs          0\n",
              "Type              0\n",
              "Price             0\n",
              "Content Rating    0\n",
              "Genres            0\n",
              "Last Updated      0\n",
              "Current Ver       0\n",
              "Android Ver       0\n",
              "dtype: int64"
            ]
          },
          "metadata": {},
          "execution_count": 180
        }
      ],
      "source": [
        "inp1.isnull().sum()"
      ]
    },
    {
      "cell_type": "markdown",
      "id": "31a379e1",
      "metadata": {
        "id": "31a379e1"
      },
      "source": [
        "### change the values to the correct types"
      ]
    },
    {
      "cell_type": "code",
      "execution_count": 181,
      "id": "309698b2",
      "metadata": {
        "colab": {
          "base_uri": "https://localhost:8080/"
        },
        "id": "309698b2",
        "outputId": "16fbae15-5d5d-471c-fe0f-d2c93558caec"
      },
      "outputs": [
        {
          "output_type": "execute_result",
          "data": {
            "text/plain": [
              "App                object\n",
              "Category           object\n",
              "Rating            float64\n",
              "Reviews            object\n",
              "Size               object\n",
              "Installs           object\n",
              "Type               object\n",
              "Price              object\n",
              "Content Rating     object\n",
              "Genres             object\n",
              "Last Updated       object\n",
              "Current Ver        object\n",
              "Android Ver        object\n",
              "dtype: object"
            ]
          },
          "metadata": {},
          "execution_count": 181
        }
      ],
      "source": [
        "inp1.dtypes"
      ]
    },
    {
      "cell_type": "code",
      "execution_count": 182,
      "id": "f4b639a9",
      "metadata": {
        "colab": {
          "base_uri": "https://localhost:8080/"
        },
        "id": "f4b639a9",
        "outputId": "f3d7f0fa-5961-4f09-829c-8f0515cad6d0"
      },
      "outputs": [
        {
          "output_type": "execute_result",
          "data": {
            "text/plain": [
              "0          8719\n",
              "$2.99       114\n",
              "$0.99       107\n",
              "$4.99        70\n",
              "$1.99        59\n",
              "           ... \n",
              "$1.29         1\n",
              "$299.99       1\n",
              "$379.99       1\n",
              "$37.99        1\n",
              "$1.20         1\n",
              "Name: Price, Length: 73, dtype: int64"
            ]
          },
          "metadata": {},
          "execution_count": 182
        }
      ],
      "source": [
        "inp1.Price.value_counts()"
      ]
    },
    {
      "cell_type": "code",
      "execution_count": 183,
      "id": "e83f518f",
      "metadata": {
        "id": "e83f518f"
      },
      "outputs": [],
      "source": [
        "inp1.Price = inp1.Price.apply(lambda x : 0 if x == \"0\" else float(x[1:]))"
      ]
    },
    {
      "cell_type": "code",
      "execution_count": 184,
      "id": "9e29c1d8",
      "metadata": {
        "colab": {
          "base_uri": "https://localhost:8080/"
        },
        "id": "9e29c1d8",
        "outputId": "9937f0d7-4f6b-4887-b543-02d64bb159f8"
      },
      "outputs": [
        {
          "output_type": "execute_result",
          "data": {
            "text/plain": [
              "dtype('float64')"
            ]
          },
          "metadata": {},
          "execution_count": 184
        }
      ],
      "source": [
        "inp1.Price.dtype"
      ]
    },
    {
      "cell_type": "code",
      "execution_count": 185,
      "id": "8b2260f8",
      "metadata": {
        "colab": {
          "base_uri": "https://localhost:8080/"
        },
        "id": "8b2260f8",
        "outputId": "3767c0e4-e586-4602-fff9-f18f1cd37136"
      },
      "outputs": [
        {
          "output_type": "execute_result",
          "data": {
            "text/plain": [
              "0.00      8719\n",
              "2.99       114\n",
              "0.99       107\n",
              "4.99        70\n",
              "1.99        59\n",
              "          ... \n",
              "1.29         1\n",
              "299.99       1\n",
              "379.99       1\n",
              "37.99        1\n",
              "1.20         1\n",
              "Name: Price, Length: 73, dtype: int64"
            ]
          },
          "metadata": {},
          "execution_count": 185
        }
      ],
      "source": [
        "inp1.Price.value_counts()\n"
      ]
    },
    {
      "cell_type": "markdown",
      "id": "b87add8c",
      "metadata": {
        "id": "b87add8c"
      },
      "source": [
        "### handle the reviews coloumn"
      ]
    },
    {
      "cell_type": "code",
      "execution_count": 186,
      "id": "5957a2c0",
      "metadata": {
        "colab": {
          "base_uri": "https://localhost:8080/"
        },
        "id": "5957a2c0",
        "outputId": "2d2ab837-fc3a-4701-9527-d11f2c4f4d45"
      },
      "outputs": [
        {
          "output_type": "execute_result",
          "data": {
            "text/plain": [
              "2         83\n",
              "3         78\n",
              "4         74\n",
              "5         74\n",
              "1         67\n",
              "          ..\n",
              "49657      1\n",
              "41420      1\n",
              "7146       1\n",
              "44706      1\n",
              "398307     1\n",
              "Name: Reviews, Length: 5992, dtype: int64"
            ]
          },
          "metadata": {},
          "execution_count": 186
        }
      ],
      "source": [
        "inp1.Reviews.value_counts()"
      ]
    },
    {
      "cell_type": "code",
      "execution_count": 187,
      "id": "3c310d0b",
      "metadata": {
        "id": "3c310d0b"
      },
      "outputs": [],
      "source": [
        "inp1.Reviews = inp1.Reviews.astype(\"int32\")"
      ]
    },
    {
      "cell_type": "code",
      "execution_count": 188,
      "id": "92604502",
      "metadata": {
        "colab": {
          "base_uri": "https://localhost:8080/"
        },
        "id": "92604502",
        "outputId": "02f5b3d5-790a-4354-b2d3-b97420e71288"
      },
      "outputs": [
        {
          "output_type": "execute_result",
          "data": {
            "text/plain": [
              "dtype('int32')"
            ]
          },
          "metadata": {},
          "execution_count": 188
        }
      ],
      "source": [
        "inp1.Reviews.dtypes"
      ]
    },
    {
      "cell_type": "code",
      "execution_count": 189,
      "id": "4439738f",
      "metadata": {
        "colab": {
          "base_uri": "https://localhost:8080/"
        },
        "id": "4439738f",
        "outputId": "d1fe5ebd-e83a-46eb-8ef3-ab19eef4cfcb"
      },
      "outputs": [
        {
          "output_type": "execute_result",
          "data": {
            "text/plain": [
              "count    9.366000e+03\n",
              "mean     5.140498e+05\n",
              "std      3.144042e+06\n",
              "min      1.000000e+00\n",
              "25%      1.862500e+02\n",
              "50%      5.930500e+03\n",
              "75%      8.153275e+04\n",
              "max      7.815831e+07\n",
              "Name: Reviews, dtype: float64"
            ]
          },
          "metadata": {},
          "execution_count": 189
        }
      ],
      "source": [
        "inp1.Reviews.describe()"
      ]
    },
    {
      "cell_type": "markdown",
      "id": "dcdb5a58",
      "metadata": {
        "id": "dcdb5a58"
      },
      "source": [
        "### handle the installs colomn "
      ]
    },
    {
      "cell_type": "code",
      "execution_count": 190,
      "id": "d720a827",
      "metadata": {
        "colab": {
          "base_uri": "https://localhost:8080/"
        },
        "id": "d720a827",
        "outputId": "5167fa6b-014f-4c0e-87ce-b50eff773954"
      },
      "outputs": [
        {
          "output_type": "execute_result",
          "data": {
            "text/plain": [
              "0        10,000+\n",
              "1       500,000+\n",
              "2     5,000,000+\n",
              "3    50,000,000+\n",
              "4       100,000+\n",
              "Name: Installs, dtype: object"
            ]
          },
          "metadata": {},
          "execution_count": 190
        }
      ],
      "source": [
        "inp1.Installs.head()"
      ]
    },
    {
      "cell_type": "code",
      "execution_count": 191,
      "id": "28ed31b7",
      "metadata": {
        "id": "28ed31b7"
      },
      "outputs": [],
      "source": [
        "def clean(val):\n",
        "   return int(val.replace(\",\" , \"\").replace(\"+\", \"\"))"
      ]
    },
    {
      "cell_type": "code",
      "execution_count": 192,
      "id": "d2c41174",
      "metadata": {
        "id": "d2c41174"
      },
      "outputs": [],
      "source": [
        "inp1.Installs= inp1.Installs.apply(clean)"
      ]
    },
    {
      "cell_type": "code",
      "execution_count": 193,
      "id": "32912cf1",
      "metadata": {
        "colab": {
          "base_uri": "https://localhost:8080/"
        },
        "id": "32912cf1",
        "outputId": "665d20f3-bbef-4a32-e8dc-68d010a97aec"
      },
      "outputs": [
        {
          "output_type": "execute_result",
          "data": {
            "text/plain": [
              "0       10000\n",
              "1      500000\n",
              "2     5000000\n",
              "3    50000000\n",
              "4      100000\n",
              "Name: Installs, dtype: int64"
            ]
          },
          "metadata": {},
          "execution_count": 193
        }
      ],
      "source": [
        "inp1.Installs.head()"
      ]
    },
    {
      "cell_type": "code",
      "execution_count": 194,
      "id": "13827c37",
      "metadata": {
        "colab": {
          "base_uri": "https://localhost:8080/"
        },
        "id": "13827c37",
        "outputId": "4e75bbf9-6eb5-4f65-e0c7-65814328a7ee"
      },
      "outputs": [
        {
          "output_type": "execute_result",
          "data": {
            "text/plain": [
              "count    9.366000e+03\n",
              "mean     1.789744e+07\n",
              "std      9.123822e+07\n",
              "min      1.000000e+00\n",
              "25%      1.000000e+04\n",
              "50%      5.000000e+05\n",
              "75%      5.000000e+06\n",
              "max      1.000000e+09\n",
              "Name: Installs, dtype: float64"
            ]
          },
          "metadata": {},
          "execution_count": 194
        }
      ],
      "source": [
        "inp1.Installs.describe()"
      ]
    },
    {
      "cell_type": "code",
      "execution_count": 195,
      "id": "3614ae01",
      "metadata": {
        "scrolled": true,
        "colab": {
          "base_uri": "https://localhost:8080/"
        },
        "id": "3614ae01",
        "outputId": "c3c9ddae-75d0-4f85-ed2a-4eed33dd236a"
      },
      "outputs": [
        {
          "output_type": "execute_result",
          "data": {
            "text/plain": [
              "Varies with device    1637\n",
              "14M                    166\n",
              "12M                    161\n",
              "11M                    160\n",
              "15M                    159\n",
              "                      ... \n",
              "383k                     1\n",
              "454k                     1\n",
              "812k                     1\n",
              "442k                     1\n",
              "619k                     1\n",
              "Name: Size, Length: 414, dtype: int64"
            ]
          },
          "metadata": {},
          "execution_count": 195
        }
      ],
      "source": [
        "inp1.Size.value_counts()"
      ]
    },
    {
      "cell_type": "code",
      "execution_count": 196,
      "id": "2cf77576",
      "metadata": {
        "id": "2cf77576"
      },
      "outputs": [],
      "source": [
        "def fix(val):\n",
        "   return int(val.replace(\"M\" , \"\").replace(\"k\", \"\").replace(\"Varies with device\" , \"4\").replace(\".\" , \"\"))"
      ]
    },
    {
      "cell_type": "code",
      "execution_count": 197,
      "id": "67453c72",
      "metadata": {
        "id": "67453c72"
      },
      "outputs": [],
      "source": [
        "inp1.Size= inp1.Size.apply(fix)"
      ]
    },
    {
      "cell_type": "code",
      "execution_count": 198,
      "id": "5d715e1a",
      "metadata": {
        "colab": {
          "base_uri": "https://localhost:8080/"
        },
        "id": "5d715e1a",
        "outputId": "fa512acd-a4b1-4109-8cd9-b53089b372ad"
      },
      "outputs": [
        {
          "output_type": "execute_result",
          "data": {
            "text/plain": [
              "App                object\n",
              "Category           object\n",
              "Rating            float64\n",
              "Reviews             int32\n",
              "Size                int64\n",
              "Installs            int64\n",
              "Type               object\n",
              "Price             float64\n",
              "Content Rating     object\n",
              "Genres             object\n",
              "Last Updated       object\n",
              "Current Ver        object\n",
              "Android Ver        object\n",
              "dtype: object"
            ]
          },
          "metadata": {},
          "execution_count": 198
        }
      ],
      "source": [
        "inp1.dtypes"
      ]
    },
    {
      "cell_type": "code",
      "execution_count": 199,
      "id": "2e32daca",
      "metadata": {
        "id": "2e32daca"
      },
      "outputs": [],
      "source": [
        "# IDENTIFY AND HANDLING OUTLIERS/EXTREME VALUES"
      ]
    },
    {
      "cell_type": "code",
      "execution_count": 200,
      "id": "1c3dc36d",
      "metadata": {
        "colab": {
          "base_uri": "https://localhost:8080/",
          "height": 265
        },
        "id": "1c3dc36d",
        "outputId": "3e91df90-7410-4bb4-e5e7-26353b379b74"
      },
      "outputs": [
        {
          "output_type": "display_data",
          "data": {
            "text/plain": [
              "<Figure size 432x288 with 1 Axes>"
            ],
            "image/png": "[encoded data removed]"
          },
          "metadata": {
            "needs_background": "light"
          }
        }
      ],
      "source": [
        "plt.boxplot(inp1.Price)\n",
        "plt.show()"
      ]
    },
    {
      "cell_type": "code",
      "execution_count": 201,
      "id": "0ca78dd5",
      "metadata": {
        "id": "0ca78dd5"
      },
      "outputs": [],
      "source": [
        "inp1 = inp1[inp1.Price<200]"
      ]
    },
    {
      "cell_type": "code",
      "execution_count": 202,
      "id": "50293bcf",
      "metadata": {
        "colab": {
          "base_uri": "https://localhost:8080/"
        },
        "id": "50293bcf",
        "outputId": "49ebe528-e750-4966-b3e3-63b4af5a51db"
      },
      "outputs": [
        {
          "output_type": "execute_result",
          "data": {
            "text/plain": [
              "count    9351.000000\n",
              "mean        0.334744\n",
              "std         2.169282\n",
              "min         0.000000\n",
              "25%         0.000000\n",
              "50%         0.000000\n",
              "75%         0.000000\n",
              "max        79.990000\n",
              "Name: Price, dtype: float64"
            ]
          },
          "metadata": {},
          "execution_count": 202
        }
      ],
      "source": [
        "inp1.Price.describe()\n"
      ]
    },
    {
      "cell_type": "code",
      "execution_count": 203,
      "id": "32afda73",
      "metadata": {
        "scrolled": true,
        "colab": {
          "base_uri": "https://localhost:8080/",
          "height": 282
        },
        "id": "32afda73",
        "outputId": "ad5a9dca-9307-4cb4-e28d-22f3b5e16df3"
      },
      "outputs": [
        {
          "output_type": "execute_result",
          "data": {
            "text/plain": [
              "<matplotlib.axes._subplots.AxesSubplot at 0x7f1f561d9210>"
            ]
          },
          "metadata": {},
          "execution_count": 203
        },
        {
          "output_type": "display_data",
          "data": {
            "text/plain": [
              "<Figure size 432x288 with 1 Axes>"
            ],
            "image/png": "[encoded data removed]"
          },
          "metadata": {
            "needs_background": "light"
          }
        }
      ],
      "source": [
        "inp1[inp1.Price>0].Price.plot.box()"
      ]
    },
    {
      "cell_type": "code",
      "execution_count": 204,
      "id": "7332d581",
      "metadata": {
        "id": "7332d581"
      },
      "outputs": [],
      "source": [
        "inp1 =inp1[inp1.Price<=30]"
      ]
    },
    {
      "cell_type": "code",
      "execution_count": 205,
      "id": "72b7078e",
      "metadata": {
        "colab": {
          "base_uri": "https://localhost:8080/"
        },
        "id": "72b7078e",
        "outputId": "13a4597f-29dd-44f5-e8e9-2aaa6d83f91d"
      },
      "outputs": [
        {
          "output_type": "execute_result",
          "data": {
            "text/plain": [
              "(9345, 13)"
            ]
          },
          "metadata": {},
          "execution_count": 205
        }
      ],
      "source": [
        "inp1.shape"
      ]
    },
    {
      "cell_type": "markdown",
      "id": "0180493e",
      "metadata": {
        "id": "0180493e"
      },
      "source": [
        "### UNIVARIATE ANALYSIS Categorical features\n",
        " ### TYPE"
      ]
    },
    {
      "cell_type": "code",
      "execution_count": 206,
      "id": "e0fdd516",
      "metadata": {
        "scrolled": true,
        "colab": {
          "base_uri": "https://localhost:8080/"
        },
        "id": "e0fdd516",
        "outputId": "05e5fa5e-76c2-4d05-f288-12c8872912c7"
      },
      "outputs": [
        {
          "output_type": "stream",
          "name": "stdout",
          "text": [
            "<class 'pandas.core.frame.DataFrame'>\n",
            "Int64Index: 9345 entries, 0 to 10840\n",
            "Data columns (total 13 columns):\n",
            " #   Column          Non-Null Count  Dtype  \n",
            "---  ------          --------------  -----  \n",
            " 0   App             9345 non-null   object \n",
            " 1   Category        9345 non-null   object \n",
            " 2   Rating          9345 non-null   float64\n",
            " 3   Reviews         9345 non-null   int32  \n",
            " 4   Size            9345 non-null   int64  \n",
            " 5   Installs        9345 non-null   int64  \n",
            " 6   Type            9345 non-null   object \n",
            " 7   Price           9345 non-null   float64\n",
            " 8   Content Rating  9345 non-null   object \n",
            " 9   Genres          9345 non-null   object \n",
            " 10  Last Updated    9345 non-null   object \n",
            " 11  Current Ver     9345 non-null   object \n",
            " 12  Android Ver     9345 non-null   object \n",
            "dtypes: float64(2), int32(1), int64(2), object(8)\n",
            "memory usage: 985.6+ KB\n"
          ]
        }
      ],
      "source": [
        "inp1.info()"
      ]
    },
    {
      "cell_type": "code",
      "execution_count": 207,
      "id": "351cc2c0",
      "metadata": {
        "colab": {
          "base_uri": "https://localhost:8080/"
        },
        "id": "351cc2c0",
        "outputId": "e16adc39-b803-414b-db13-f1c521df369d"
      },
      "outputs": [
        {
          "output_type": "execute_result",
          "data": {
            "text/plain": [
              "Free    8719\n",
              "Paid     626\n",
              "Name: Type, dtype: int64"
            ]
          },
          "metadata": {},
          "execution_count": 207
        }
      ],
      "source": [
        "inp1.Type.value_counts()"
      ]
    },
    {
      "cell_type": "code",
      "execution_count": 208,
      "id": "4df70fe3",
      "metadata": {
        "scrolled": true,
        "colab": {
          "base_uri": "https://localhost:8080/",
          "height": 279
        },
        "id": "4df70fe3",
        "outputId": "656a66d8-3de5-43d2-8894-4155a97d2169"
      },
      "outputs": [
        {
          "output_type": "display_data",
          "data": {
            "text/plain": [
              "<Figure size 432x288 with 1 Axes>"
            ],
            "image/png": "[encoded data removed]"
          },
          "metadata": {
            "needs_background": "light"
          }
        }
      ],
      "source": [
        "sns.countplot(data = inp1 , x='Type')\n",
        "plt.show()"
      ]
    },
    {
      "cell_type": "markdown",
      "id": "180b8941",
      "metadata": {
        "id": "180b8941"
      },
      "source": [
        "### Catergory\n"
      ]
    },
    {
      "cell_type": "code",
      "execution_count": 209,
      "id": "df80d781",
      "metadata": {
        "colab": {
          "base_uri": "https://localhost:8080/"
        },
        "id": "df80d781",
        "outputId": "69ea2165-8eec-420a-f2cf-d84bba563b1f"
      },
      "outputs": [
        {
          "output_type": "execute_result",
          "data": {
            "text/plain": [
              "FAMILY                 1743\n",
              "GAME                   1097\n",
              "TOOLS                   734\n",
              "PRODUCTIVITY            351\n",
              "MEDICAL                 345\n",
              "COMMUNICATION           328\n",
              "SPORTS                  319\n",
              "FINANCE                 317\n",
              "PHOTOGRAPHY             317\n",
              "PERSONALIZATION         314\n",
              "LIFESTYLE               308\n",
              "BUSINESS                303\n",
              "HEALTH_AND_FITNESS      297\n",
              "SOCIAL                  259\n",
              "SHOPPING                238\n",
              "NEWS_AND_MAGAZINES      233\n",
              "TRAVEL_AND_LOCAL        226\n",
              "DATING                  195\n",
              "BOOKS_AND_REFERENCE     178\n",
              "VIDEO_PLAYERS           160\n",
              "EDUCATION               155\n",
              "ENTERTAINMENT           149\n",
              "MAPS_AND_NAVIGATION     124\n",
              "FOOD_AND_DRINK          109\n",
              "HOUSE_AND_HOME           76\n",
              "WEATHER                  75\n",
              "AUTO_AND_VEHICLES        73\n",
              "LIBRARIES_AND_DEMO       65\n",
              "ART_AND_DESIGN           62\n",
              "COMICS                   58\n",
              "PARENTING                50\n",
              "EVENTS                   45\n",
              "BEAUTY                   42\n",
              "Name: Category, dtype: int64"
            ]
          },
          "metadata": {},
          "execution_count": 209
        }
      ],
      "source": [
        "inp1.Category.value_counts()"
      ]
    },
    {
      "cell_type": "code",
      "execution_count": 210,
      "id": "1a9e578c",
      "metadata": {
        "colab": {
          "base_uri": "https://localhost:8080/",
          "height": 671
        },
        "id": "1a9e578c",
        "outputId": "22e29aa0-c5fe-4df4-ef8f-e65fbb3f40a6"
      },
      "outputs": [
        {
          "output_type": "display_data",
          "data": {
            "text/plain": [
              "<Figure size 432x288 with 1 Axes>"
            ],
            "image/png": "[encoded data removed]"
          },
          "metadata": {}
        }
      ],
      "source": [
        "inp1.Category.value_counts(normalize = True).plot.pie(radius = 3.3)\n",
        "plt.show()"
      ]
    },
    {
      "cell_type": "markdown",
      "id": "8930f25b",
      "metadata": {
        "id": "8930f25b"
      },
      "source": [
        "### Content Rating"
      ]
    },
    {
      "cell_type": "code",
      "execution_count": 211,
      "id": "eb9de9ce",
      "metadata": {
        "colab": {
          "base_uri": "https://localhost:8080/"
        },
        "id": "eb9de9ce",
        "outputId": "eb26ff09-e07d-4823-99a6-e62506562cd4"
      },
      "outputs": [
        {
          "output_type": "execute_result",
          "data": {
            "text/plain": [
              "<bound method IndexOpsMixin.value_counts of 0          Everyone\n",
              "1          Everyone\n",
              "2          Everyone\n",
              "3              Teen\n",
              "4          Everyone\n",
              "            ...    \n",
              "10834      Everyone\n",
              "10836      Everyone\n",
              "10837      Everyone\n",
              "10839    Mature 17+\n",
              "10840      Everyone\n",
              "Name: Content Rating, Length: 9345, dtype: object>"
            ]
          },
          "metadata": {},
          "execution_count": 211
        }
      ],
      "source": [
        "inp1['Content Rating'].value_counts"
      ]
    },
    {
      "cell_type": "code",
      "execution_count": 212,
      "id": "e17d0453",
      "metadata": {
        "colab": {
          "base_uri": "https://localhost:8080/",
          "height": 335
        },
        "id": "e17d0453",
        "outputId": "2d33fd6a-5b98-4548-c694-5e7f9e01953f"
      },
      "outputs": [
        {
          "output_type": "display_data",
          "data": {
            "text/plain": [
              "<Figure size 432x288 with 1 Axes>"
            ],
            "image/png": "[encoded data removed]"
          },
          "metadata": {
            "needs_background": "light"
          }
        }
      ],
      "source": [
        "inp1['Content Rating'].value_counts(normalize = True).plot.bar( color = ['cyan' , 'blue' , 'yellow' , 'red' , 'pink'])\n",
        "plt.show()"
      ]
    },
    {
      "cell_type": "markdown",
      "id": "3b68b838",
      "metadata": {
        "id": "3b68b838"
      },
      "source": [
        "### Android Ver"
      ]
    },
    {
      "cell_type": "code",
      "execution_count": 213,
      "id": "6da1fb02",
      "metadata": {
        "colab": {
          "base_uri": "https://localhost:8080/",
          "height": 526
        },
        "id": "6da1fb02",
        "outputId": "22fdb27d-b868-4359-89cc-256c2f138203"
      },
      "outputs": [
        {
          "output_type": "execute_result",
          "data": {
            "text/plain": [
              "<matplotlib.axes._subplots.AxesSubplot at 0x7f1f5823fb50>"
            ]
          },
          "metadata": {},
          "execution_count": 213
        },
        {
          "output_type": "display_data",
          "data": {
            "text/plain": [
              "<Figure size 1080x504 with 1 Axes>"
            ],
            "image/png": "[encoded data removed]"
          },
          "metadata": {
            "needs_background": "light"
          }
        }
      ],
      "source": [
        "plt.figure(figsize = (15 , 7) )\n",
        "inp1['Android Ver'].value_counts(normalize = True).plot.bar(width = 0.9 , color = ['red' , 'blue' , 'green' , 'yellow' , 'pink'])"
      ]
    },
    {
      "cell_type": "markdown",
      "id": "658f26bb",
      "metadata": {
        "id": "658f26bb"
      },
      "source": [
        "### Bivariate analysis"
      ]
    },
    {
      "cell_type": "markdown",
      "id": "bf53547d",
      "metadata": {
        "id": "bf53547d"
      },
      "source": [
        "#### Numerical - Numerical"
      ]
    },
    {
      "cell_type": "code",
      "execution_count": 214,
      "id": "7d9f2e4e",
      "metadata": {
        "scrolled": true,
        "colab": {
          "base_uri": "https://localhost:8080/",
          "height": 289
        },
        "id": "7d9f2e4e",
        "outputId": "935dc456-5623-41e5-c2f2-5f5e73c887ef"
      },
      "outputs": [
        {
          "output_type": "display_data",
          "data": {
            "text/plain": [
              "<Figure size 432x288 with 1 Axes>"
            ],
            "image/png": "[encoded data removed]"
          },
          "metadata": {
            "needs_background": "light"
          }
        }
      ],
      "source": [
        "plt.scatter(inp1.Installs , inp1.Reviews , color = 'Red' )\n",
        "plt.show()"
      ]
    },
    {
      "cell_type": "code",
      "execution_count": 215,
      "id": "4e43052a",
      "metadata": {
        "colab": {
          "base_uri": "https://localhost:8080/",
          "height": 550
        },
        "id": "4e43052a",
        "outputId": "1e1bc704-1660-4c68-b0a3-a1cf521b0b5f"
      },
      "outputs": [
        {
          "output_type": "display_data",
          "data": {
            "text/plain": [
              "<Figure size 540x540 with 12 Axes>"
            ],
            "image/png": "[encoded data removed]"
          },
          "metadata": {
            "needs_background": "light"
          }
        }
      ],
      "source": [
        "sns.pairplot(data = inp1 , vars = ['Reviews' , 'Installs' , 'Rating']    )\n",
        "plt.show()"
      ]
    },
    {
      "cell_type": "markdown",
      "id": "45c276f4",
      "metadata": {
        "id": "45c276f4"
      },
      "source": [
        "##### QUANTITY ANALYSIS USING CORRELATION VALUES"
      ]
    },
    {
      "cell_type": "code",
      "execution_count": 216,
      "id": "a6dbc42d",
      "metadata": {
        "colab": {
          "base_uri": "https://localhost:8080/",
          "height": 112
        },
        "id": "a6dbc42d",
        "outputId": "311d1b20-eced-4497-ab8b-b68b64311898"
      },
      "outputs": [
        {
          "output_type": "execute_result",
          "data": {
            "text/plain": [
              "           Reviews  Installs\n",
              "Reviews   1.000000  0.641587\n",
              "Installs  0.641587  1.000000"
            ],
            "text/html": [
              "\n",
              "  <div id=\"df-e860c9e1-2557-4012-98ed-f8d0308b6c39\">\n",
              "    <div class=\"colab-df-container\">\n",
              "      <div>\n",
              "<style scoped>\n",
              "    .dataframe tbody tr th:only-of-type {\n",
              "        vertical-align: middle;\n",
              "    }\n",
              "\n",
              "    .dataframe tbody tr th {\n",
              "        vertical-align: top;\n",
              "    }\n",
              "\n",
              "    .dataframe thead th {\n",
              "        text-align: right;\n",
              "    }\n",
              "</style>\n",
              "<table border=\"1\" class=\"dataframe\">\n",
              "  <thead>\n",
              "    <tr style=\"text-align: right;\">\n",
              "      <th></th>\n",
              "      <th>Reviews</th>\n",
              "      <th>Installs</th>\n",
              "    </tr>\n",
              "  </thead>\n",
              "  <tbody>\n",
              "    <tr>\n",
              "      <th>Reviews</th>\n",
              "      <td>1.000000</td>\n",
              "      <td>0.641587</td>\n",
              "    </tr>\n",
              "    <tr>\n",
              "      <th>Installs</th>\n",
              "      <td>0.641587</td>\n",
              "      <td>1.000000</td>\n",
              "    </tr>\n",
              "  </tbody>\n",
              "</table>\n",
              "</div>\n",
              "      <button class=\"colab-df-convert\" onclick=\"convertToInteractive('df-e860c9e1-2557-4012-98ed-f8d0308b6c39')\"\n",
              "              title=\"Convert this dataframe to an interactive table.\"\n",
              "              style=\"display:none;\">\n",
              "        \n",
              "  <svg xmlns=\"http://www.w3.org/2000/svg\" height=\"24px\"viewBox=\"0 0 24 24\"\n",
              "       width=\"24px\">\n",
              "    <path d=\"M0 0h24v24H0V0z\" fill=\"none\"/>\n",
              "    <path d=\"M18.56 5.44l.94 2.06.94-2.06 2.06-.94-2.06-.94-.94-2.06-.94 2.06-2.06.94zm-11 1L8.5 8.5l.94-2.06 2.06-.94-2.06-.94L8.5 2.5l-.94 2.06-2.06.94zm10 10l.94 2.06.94-2.06 2.06-.94-2.06-.94-.94-2.06-.94 2.06-2.06.94z\"/><path d=\"M17.41 7.96l-1.37-1.37c-.4-.4-.92-.59-1.43-.59-.52 0-1.04.2-1.43.59L10.3 9.45l-7.72 7.72c-.78.78-.78 2.05 0 2.83L4 21.41c.39.39.9.59 1.41.59.51 0 1.02-.2 1.41-.59l7.78-7.78 2.81-2.81c.8-.78.8-2.07 0-2.86zM5.41 20L4 18.59l7.72-7.72 1.47 1.35L5.41 20z\"/>\n",
              "  </svg>\n",
              "      </button>\n",
              "      \n",
              "  <style>\n",
              "    .colab-df-container {\n",
              "      display:flex;\n",
              "      flex-wrap:wrap;\n",
              "      gap: 12px;\n",
              "    }\n",
              "\n",
              "    .colab-df-convert {\n",
              "      background-color: #E8F0FE;\n",
              "      border: none;\n",
              "      border-radius: 50%;\n",
              "      cursor: pointer;\n",
              "      display: none;\n",
              "      fill: #1967D2;\n",
              "      height: 32px;\n",
              "      padding: 0 0 0 0;\n",
              "      width: 32px;\n",
              "    }\n",
              "\n",
              "    .colab-df-convert:hover {\n",
              "      background-color: #E2EBFA;\n",
              "      box-shadow: 0px 1px 2px rgba(60, 64, 67, 0.3), 0px 1px 3px 1px rgba(60, 64, 67, 0.15);\n",
              "      fill: #174EA6;\n",
              "    }\n",
              "\n",
              "    [theme=dark] .colab-df-convert {\n",
              "      background-color: #3B4455;\n",
              "      fill: #D2E3FC;\n",
              "    }\n",
              "\n",
              "    [theme=dark] .colab-df-convert:hover {\n",
              "      background-color: #434B5C;\n",
              "      box-shadow: 0px 1px 3px 1px rgba(0, 0, 0, 0.15);\n",
              "      filter: drop-shadow(0px 1px 2px rgba(0, 0, 0, 0.3));\n",
              "      fill: #FFFFFF;\n",
              "    }\n",
              "  </style>\n",
              "\n",
              "      <script>\n",
              "        const buttonEl =\n",
              "          document.querySelector('#df-e860c9e1-2557-4012-98ed-f8d0308b6c39 button.colab-df-convert');\n",
              "        buttonEl.style.display =\n",
              "          google.colab.kernel.accessAllowed ? 'block' : 'none';\n",
              "\n",
              "        async function convertToInteractive(key) {\n",
              "          const element = document.querySelector('#df-e860c9e1-2557-4012-98ed-f8d0308b6c39');\n",
              "          const dataTable =\n",
              "            await google.colab.kernel.invokeFunction('convertToInteractive',\n",
              "                                                     [key], {});\n",
              "          if (!dataTable) return;\n",
              "\n",
              "          const docLinkHtml = 'Like what you see? Visit the ' +\n",
              "            '<a target=\"_blank\" href=https://colab.research.google.com/notebooks/data_table.ipynb>data table notebook</a>'\n",
              "            + ' to learn more about interactive tables.';\n",
              "          element.innerHTML = '';\n",
              "          dataTable['output_type'] = 'display_data';\n",
              "          await google.colab.output.renderOutput(dataTable, element);\n",
              "          const docLink = document.createElement('div');\n",
              "          docLink.innerHTML = docLinkHtml;\n",
              "          element.appendChild(docLink);\n",
              "        }\n",
              "      </script>\n",
              "    </div>\n",
              "  </div>\n",
              "  "
            ]
          },
          "metadata": {},
          "execution_count": 216
        }
      ],
      "source": [
        "inp1[['Reviews', 'Installs']].corr()"
      ]
    },
    {
      "cell_type": "markdown",
      "id": "f418c77e",
      "metadata": {
        "id": "f418c77e"
      },
      "source": [
        "#### corelation heatmaps"
      ]
    },
    {
      "cell_type": "code",
      "execution_count": 217,
      "id": "59083286",
      "metadata": {
        "scrolled": true,
        "colab": {
          "base_uri": "https://localhost:8080/",
          "height": 0
        },
        "id": "59083286",
        "outputId": "456ad24d-f910-455d-c672-be87a6b7957e"
      },
      "outputs": [
        {
          "output_type": "display_data",
          "data": {
            "text/plain": [
              "<Figure size 432x288 with 2 Axes>"
            ],
            "image/png": "[encoded data removed]"
          },
          "metadata": {
            "needs_background": "light"
          }
        }
      ],
      "source": [
        "sns.heatmap(inp1[['Reviews'  , 'Installs']].corr() , annot = True , cmap = 'Reds')\n",
        "plt.show()"
      ]
    },
    {
      "cell_type": "markdown",
      "id": "31e90c02",
      "metadata": {
        "id": "31e90c02"
      },
      "source": [
        "#### CATERGORICAL - NUMERICAL"
      ]
    },
    {
      "cell_type": "code",
      "execution_count": 218,
      "id": "b9dea6c0",
      "metadata": {
        "colab": {
          "base_uri": "https://localhost:8080/"
        },
        "id": "b9dea6c0",
        "outputId": "1ac6b647-f130-4fc3-f168-949c004d7fd9"
      },
      "outputs": [
        {
          "output_type": "execute_result",
          "data": {
            "text/plain": [
              "Content Rating\n",
              "Adults only 18+    31.333333\n",
              "Everyone           47.125541\n",
              "Everyone 10+       38.690176\n",
              "Mature 17+         35.236443\n",
              "Teen               39.279778\n",
              "Unrated            64.000000\n",
              "Name: Size, dtype: float64"
            ]
          },
          "metadata": {},
          "execution_count": 218
        }
      ],
      "source": [
        "inp1.groupby('Content Rating')['Size'].mean()"
      ]
    },
    {
      "cell_type": "code",
      "execution_count": 219,
      "id": "a8a9017b",
      "metadata": {
        "colab": {
          "base_uri": "https://localhost:8080/"
        },
        "id": "a8a9017b",
        "outputId": "7b1b5ef5-cfec-40d1-f9cc-f315fdf26da3"
      },
      "outputs": [
        {
          "output_type": "execute_result",
          "data": {
            "text/plain": [
              "Category\n",
              "ART_AND_DESIGN         29.0\n",
              "AUTO_AND_VEHICLES      33.0\n",
              "BEAUTY                 29.0\n",
              "BOOKS_AND_REFERENCE    29.0\n",
              "BUSINESS               25.0\n",
              "COMICS                 28.5\n",
              "COMMUNICATION          19.5\n",
              "DATING                 28.0\n",
              "EDUCATION              18.0\n",
              "ENTERTAINMENT          15.0\n",
              "EVENTS                 28.0\n",
              "FAMILY                 37.0\n",
              "FINANCE                25.0\n",
              "FOOD_AND_DRINK         22.0\n",
              "GAME                   43.0\n",
              "HEALTH_AND_FITNESS     28.0\n",
              "HOUSE_AND_HOME         19.0\n",
              "LIBRARIES_AND_DEMO     70.0\n",
              "LIFESTYLE              29.5\n",
              "MAPS_AND_NAVIGATION    26.0\n",
              "MEDICAL                27.0\n",
              "NEWS_AND_MAGAZINES     22.0\n",
              "PARENTING              28.0\n",
              "PERSONALIZATION        34.0\n",
              "PHOTOGRAPHY            23.0\n",
              "PRODUCTIVITY           19.0\n",
              "SHOPPING               18.0\n",
              "SOCIAL                 21.0\n",
              "SPORTS                 25.0\n",
              "TOOLS                  28.0\n",
              "TRAVEL_AND_LOCAL       20.5\n",
              "VIDEO_PLAYERS          24.5\n",
              "WEATHER                19.0\n",
              "Name: Size, dtype: float64"
            ]
          },
          "metadata": {},
          "execution_count": 219
        }
      ],
      "source": [
        "inp1.groupby('Category')['Size'].median()"
      ]
    },
    {
      "cell_type": "code",
      "execution_count": 220,
      "id": "aa101c72",
      "metadata": {
        "colab": {
          "base_uri": "https://localhost:8080/",
          "height": 0
        },
        "id": "aa101c72",
        "outputId": "064b12f0-0cfe-4d01-a47c-255dbd9a99b8"
      },
      "outputs": [
        {
          "output_type": "execute_result",
          "data": {
            "text/plain": [
              "                           mean  median\n",
              "Category                               \n",
              "ART_AND_DESIGN        36.467742    29.0\n",
              "AUTO_AND_VEHICLES     37.534247    33.0\n",
              "BEAUTY                33.857143    29.0\n",
              "BOOKS_AND_REFERENCE   40.101124    29.0\n",
              "BUSINESS              39.874587    25.0\n",
              "COMICS                47.982759    28.5\n",
              "COMMUNICATION         52.521341    19.5\n",
              "DATING                34.241026    28.0\n",
              "EDUCATION             32.490323    18.0\n",
              "ENTERTAINMENT         20.389262    15.0\n",
              "EVENTS                40.044444    28.0\n",
              "FAMILY                47.907057    37.0\n",
              "FINANCE               37.807571    25.0\n",
              "FOOD_AND_DRINK        26.944954    22.0\n",
              "GAME                  46.113947    43.0\n",
              "HEALTH_AND_FITNESS    37.319865    28.0\n",
              "HOUSE_AND_HOME        33.407895    19.0\n",
              "LIBRARIES_AND_DEMO   224.676923    70.0\n",
              "LIFESTYLE             46.097403    29.5\n",
              "MAPS_AND_NAVIGATION   37.241935    26.0\n",
              "MEDICAL               61.243478    27.0\n",
              "NEWS_AND_MAGAZINES    30.145923    22.0\n",
              "PARENTING             36.300000    28.0\n",
              "PERSONALIZATION       67.697452    34.0\n",
              "PHOTOGRAPHY           31.671924    23.0\n",
              "PRODUCTIVITY          42.732194    19.0\n",
              "SHOPPING              37.911765    18.0\n",
              "SOCIAL                32.069498    21.0\n",
              "SPORTS                34.927900    25.0\n",
              "TOOLS                 62.782016    28.0\n",
              "TRAVEL_AND_LOCAL      27.730088    20.5\n",
              "VIDEO_PLAYERS         32.106250    24.5\n",
              "WEATHER               34.000000    19.0"
            ],
            "text/html": [
              "\n",
              "  <div id=\"df-64076f28-1d27-415f-8ca6-c86f892b9cd3\">\n",
              "    <div class=\"colab-df-container\">\n",
              "      <div>\n",
              "<style scoped>\n",
              "    .dataframe tbody tr th:only-of-type {\n",
              "        vertical-align: middle;\n",
              "    }\n",
              "\n",
              "    .dataframe tbody tr th {\n",
              "        vertical-align: top;\n",
              "    }\n",
              "\n",
              "    .dataframe thead th {\n",
              "        text-align: right;\n",
              "    }\n",
              "</style>\n",
              "<table border=\"1\" class=\"dataframe\">\n",
              "  <thead>\n",
              "    <tr style=\"text-align: right;\">\n",
              "      <th></th>\n",
              "      <th>mean</th>\n",
              "      <th>median</th>\n",
              "    </tr>\n",
              "    <tr>\n",
              "      <th>Category</th>\n",
              "      <th></th>\n",
              "      <th></th>\n",
              "    </tr>\n",
              "  </thead>\n",
              "  <tbody>\n",
              "    <tr>\n",
              "      <th>ART_AND_DESIGN</th>\n",
              "      <td>36.467742</td>\n",
              "      <td>29.0</td>\n",
              "    </tr>\n",
              "    <tr>\n",
              "      <th>AUTO_AND_VEHICLES</th>\n",
              "      <td>37.534247</td>\n",
              "      <td>33.0</td>\n",
              "    </tr>\n",
              "    <tr>\n",
              "      <th>BEAUTY</th>\n",
              "      <td>33.857143</td>\n",
              "      <td>29.0</td>\n",
              "    </tr>\n",
              "    <tr>\n",
              "      <th>BOOKS_AND_REFERENCE</th>\n",
              "      <td>40.101124</td>\n",
              "      <td>29.0</td>\n",
              "    </tr>\n",
              "    <tr>\n",
              "      <th>BUSINESS</th>\n",
              "      <td>39.874587</td>\n",
              "      <td>25.0</td>\n",
              "    </tr>\n",
              "    <tr>\n",
              "      <th>COMICS</th>\n",
              "      <td>47.982759</td>\n",
              "      <td>28.5</td>\n",
              "    </tr>\n",
              "    <tr>\n",
              "      <th>COMMUNICATION</th>\n",
              "      <td>52.521341</td>\n",
              "      <td>19.5</td>\n",
              "    </tr>\n",
              "    <tr>\n",
              "      <th>DATING</th>\n",
              "      <td>34.241026</td>\n",
              "      <td>28.0</td>\n",
              "    </tr>\n",
              "    <tr>\n",
              "      <th>EDUCATION</th>\n",
              "      <td>32.490323</td>\n",
              "      <td>18.0</td>\n",
              "    </tr>\n",
              "    <tr>\n",
              "      <th>ENTERTAINMENT</th>\n",
              "      <td>20.389262</td>\n",
              "      <td>15.0</td>\n",
              "    </tr>\n",
              "    <tr>\n",
              "      <th>EVENTS</th>\n",
              "      <td>40.044444</td>\n",
              "      <td>28.0</td>\n",
              "    </tr>\n",
              "    <tr>\n",
              "      <th>FAMILY</th>\n",
              "      <td>47.907057</td>\n",
              "      <td>37.0</td>\n",
              "    </tr>\n",
              "    <tr>\n",
              "      <th>FINANCE</th>\n",
              "      <td>37.807571</td>\n",
              "      <td>25.0</td>\n",
              "    </tr>\n",
              "    <tr>\n",
              "      <th>FOOD_AND_DRINK</th>\n",
              "      <td>26.944954</td>\n",
              "      <td>22.0</td>\n",
              "    </tr>\n",
              "    <tr>\n",
              "      <th>GAME</th>\n",
              "      <td>46.113947</td>\n",
              "      <td>43.0</td>\n",
              "    </tr>\n",
              "    <tr>\n",
              "      <th>HEALTH_AND_FITNESS</th>\n",
              "      <td>37.319865</td>\n",
              "      <td>28.0</td>\n",
              "    </tr>\n",
              "    <tr>\n",
              "      <th>HOUSE_AND_HOME</th>\n",
              "      <td>33.407895</td>\n",
              "      <td>19.0</td>\n",
              "    </tr>\n",
              "    <tr>\n",
              "      <th>LIBRARIES_AND_DEMO</th>\n",
              "      <td>224.676923</td>\n",
              "      <td>70.0</td>\n",
              "    </tr>\n",
              "    <tr>\n",
              "      <th>LIFESTYLE</th>\n",
              "      <td>46.097403</td>\n",
              "      <td>29.5</td>\n",
              "    </tr>\n",
              "    <tr>\n",
              "      <th>MAPS_AND_NAVIGATION</th>\n",
              "      <td>37.241935</td>\n",
              "      <td>26.0</td>\n",
              "    </tr>\n",
              "    <tr>\n",
              "      <th>MEDICAL</th>\n",
              "      <td>61.243478</td>\n",
              "      <td>27.0</td>\n",
              "    </tr>\n",
              "    <tr>\n",
              "      <th>NEWS_AND_MAGAZINES</th>\n",
              "      <td>30.145923</td>\n",
              "      <td>22.0</td>\n",
              "    </tr>\n",
              "    <tr>\n",
              "      <th>PARENTING</th>\n",
              "      <td>36.300000</td>\n",
              "      <td>28.0</td>\n",
              "    </tr>\n",
              "    <tr>\n",
              "      <th>PERSONALIZATION</th>\n",
              "      <td>67.697452</td>\n",
              "      <td>34.0</td>\n",
              "    </tr>\n",
              "    <tr>\n",
              "      <th>PHOTOGRAPHY</th>\n",
              "      <td>31.671924</td>\n",
              "      <td>23.0</td>\n",
              "    </tr>\n",
              "    <tr>\n",
              "      <th>PRODUCTIVITY</th>\n",
              "      <td>42.732194</td>\n",
              "      <td>19.0</td>\n",
              "    </tr>\n",
              "    <tr>\n",
              "      <th>SHOPPING</th>\n",
              "      <td>37.911765</td>\n",
              "      <td>18.0</td>\n",
              "    </tr>\n",
              "    <tr>\n",
              "      <th>SOCIAL</th>\n",
              "      <td>32.069498</td>\n",
              "      <td>21.0</td>\n",
              "    </tr>\n",
              "    <tr>\n",
              "      <th>SPORTS</th>\n",
              "      <td>34.927900</td>\n",
              "      <td>25.0</td>\n",
              "    </tr>\n",
              "    <tr>\n",
              "      <th>TOOLS</th>\n",
              "      <td>62.782016</td>\n",
              "      <td>28.0</td>\n",
              "    </tr>\n",
              "    <tr>\n",
              "      <th>TRAVEL_AND_LOCAL</th>\n",
              "      <td>27.730088</td>\n",
              "      <td>20.5</td>\n",
              "    </tr>\n",
              "    <tr>\n",
              "      <th>VIDEO_PLAYERS</th>\n",
              "      <td>32.106250</td>\n",
              "      <td>24.5</td>\n",
              "    </tr>\n",
              "    <tr>\n",
              "      <th>WEATHER</th>\n",
              "      <td>34.000000</td>\n",
              "      <td>19.0</td>\n",
              "    </tr>\n",
              "  </tbody>\n",
              "</table>\n",
              "</div>\n",
              "      <button class=\"colab-df-convert\" onclick=\"convertToInteractive('df-64076f28-1d27-415f-8ca6-c86f892b9cd3')\"\n",
              "              title=\"Convert this dataframe to an interactive table.\"\n",
              "              style=\"display:none;\">\n",
              "        \n",
              "  <svg xmlns=\"http://www.w3.org/2000/svg\" height=\"24px\"viewBox=\"0 0 24 24\"\n",
              "       width=\"24px\">\n",
              "    <path d=\"M0 0h24v24H0V0z\" fill=\"none\"/>\n",
              "    <path d=\"M18.56 5.44l.94 2.06.94-2.06 2.06-.94-2.06-.94-.94-2.06-.94 2.06-2.06.94zm-11 1L8.5 8.5l.94-2.06 2.06-.94-2.06-.94L8.5 2.5l-.94 2.06-2.06.94zm10 10l.94 2.06.94-2.06 2.06-.94-2.06-.94-.94-2.06-.94 2.06-2.06.94z\"/><path d=\"M17.41 7.96l-1.37-1.37c-.4-.4-.92-.59-1.43-.59-.52 0-1.04.2-1.43.59L10.3 9.45l-7.72 7.72c-.78.78-.78 2.05 0 2.83L4 21.41c.39.39.9.59 1.41.59.51 0 1.02-.2 1.41-.59l7.78-7.78 2.81-2.81c.8-.78.8-2.07 0-2.86zM5.41 20L4 18.59l7.72-7.72 1.47 1.35L5.41 20z\"/>\n",
              "  </svg>\n",
              "      </button>\n",
              "      \n",
              "  <style>\n",
              "    .colab-df-container {\n",
              "      display:flex;\n",
              "      flex-wrap:wrap;\n",
              "      gap: 12px;\n",
              "    }\n",
              "\n",
              "    .colab-df-convert {\n",
              "      background-color: #E8F0FE;\n",
              "      border: none;\n",
              "      border-radius: 50%;\n",
              "      cursor: pointer;\n",
              "      display: none;\n",
              "      fill: #1967D2;\n",
              "      height: 32px;\n",
              "      padding: 0 0 0 0;\n",
              "      width: 32px;\n",
              "    }\n",
              "\n",
              "    .colab-df-convert:hover {\n",
              "      background-color: #E2EBFA;\n",
              "      box-shadow: 0px 1px 2px rgba(60, 64, 67, 0.3), 0px 1px 3px 1px rgba(60, 64, 67, 0.15);\n",
              "      fill: #174EA6;\n",
              "    }\n",
              "\n",
              "    [theme=dark] .colab-df-convert {\n",
              "      background-color: #3B4455;\n",
              "      fill: #D2E3FC;\n",
              "    }\n",
              "\n",
              "    [theme=dark] .colab-df-convert:hover {\n",
              "      background-color: #434B5C;\n",
              "      box-shadow: 0px 1px 3px 1px rgba(0, 0, 0, 0.15);\n",
              "      filter: drop-shadow(0px 1px 2px rgba(0, 0, 0, 0.3));\n",
              "      fill: #FFFFFF;\n",
              "    }\n",
              "  </style>\n",
              "\n",
              "      <script>\n",
              "        const buttonEl =\n",
              "          document.querySelector('#df-64076f28-1d27-415f-8ca6-c86f892b9cd3 button.colab-df-convert');\n",
              "        buttonEl.style.display =\n",
              "          google.colab.kernel.accessAllowed ? 'block' : 'none';\n",
              "\n",
              "        async function convertToInteractive(key) {\n",
              "          const element = document.querySelector('#df-64076f28-1d27-415f-8ca6-c86f892b9cd3');\n",
              "          const dataTable =\n",
              "            await google.colab.kernel.invokeFunction('convertToInteractive',\n",
              "                                                     [key], {});\n",
              "          if (!dataTable) return;\n",
              "\n",
              "          const docLinkHtml = 'Like what you see? Visit the ' +\n",
              "            '<a target=\"_blank\" href=https://colab.research.google.com/notebooks/data_table.ipynb>data table notebook</a>'\n",
              "            + ' to learn more about interactive tables.';\n",
              "          element.innerHTML = '';\n",
              "          dataTable['output_type'] = 'display_data';\n",
              "          await google.colab.output.renderOutput(dataTable, element);\n",
              "          const docLink = document.createElement('div');\n",
              "          docLink.innerHTML = docLinkHtml;\n",
              "          element.appendChild(docLink);\n",
              "        }\n",
              "      </script>\n",
              "    </div>\n",
              "  </div>\n",
              "  "
            ]
          },
          "metadata": {},
          "execution_count": 220
        }
      ],
      "source": [
        "inp1.groupby('Category')['Size'].aggregate(['mean' , 'median'])"
      ]
    },
    {
      "cell_type": "code",
      "execution_count": 221,
      "id": "dbbd5517",
      "metadata": {
        "scrolled": false,
        "colab": {
          "base_uri": "https://localhost:8080/",
          "height": 0
        },
        "id": "dbbd5517",
        "outputId": "f6ac39c4-6013-4730-c672-9aec4ac7e7c8"
      },
      "outputs": [
        {
          "output_type": "display_data",
          "data": {
            "text/plain": [
              "<Figure size 720x1080 with 0 Axes>"
            ]
          },
          "metadata": {}
        },
        {
          "output_type": "display_data",
          "data": {
            "text/plain": [
              "<Figure size 432x288 with 1 Axes>"
            ],
            "image/png": "[encoded data removed]"
          },
          "metadata": {
            "needs_background": "light"
          }
        }
      ],
      "source": [
        "plt.figure(figsize = (10 , 15))\n",
        "inp1.groupby('Category')['Size'].aggregate(['mean' , 'median']).plot.bar(width = 0.9)\n",
        "plt.show()"
      ]
    },
    {
      "cell_type": "markdown",
      "id": "2e72a34e",
      "metadata": {
        "id": "2e72a34e"
      },
      "source": [
        "### Categorical - Categorical"
      ]
    },
    {
      "cell_type": "code",
      "execution_count": 222,
      "id": "e8f9eed6",
      "metadata": {
        "id": "e8f9eed6"
      },
      "outputs": [],
      "source": [
        "inp1['Type_flag'] = np.where(inp1.Type == \"Free\",1,0)"
      ]
    },
    {
      "cell_type": "code",
      "execution_count": 223,
      "id": "7dad25f8",
      "metadata": {
        "colab": {
          "base_uri": "https://localhost:8080/"
        },
        "id": "7dad25f8",
        "outputId": "8b3a3066-3517-455c-b78b-bb0b371ff56b"
      },
      "outputs": [
        {
          "output_type": "execute_result",
          "data": {
            "text/plain": [
              "1    8719\n",
              "0     626\n",
              "Name: Type_flag, dtype: int64"
            ]
          },
          "metadata": {},
          "execution_count": 223
        }
      ],
      "source": [
        "inp1.Type_flag.value_counts()"
      ]
    },
    {
      "cell_type": "code",
      "execution_count": 224,
      "id": "fdc11602",
      "metadata": {
        "scrolled": false,
        "colab": {
          "base_uri": "https://localhost:8080/"
        },
        "id": "fdc11602",
        "outputId": "38a91f5d-f16c-4ad4-8f75-5e9c51a5b4ea"
      },
      "outputs": [
        {
          "output_type": "execute_result",
          "data": {
            "text/plain": [
              "1    0.933012\n",
              "0    0.066988\n",
              "Name: Type_flag, dtype: float64"
            ]
          },
          "metadata": {},
          "execution_count": 224
        }
      ],
      "source": [
        "inp1.Type_flag.value_counts(normalize = True)"
      ]
    },
    {
      "cell_type": "code",
      "execution_count": 224,
      "id": "81e317d6",
      "metadata": {
        "id": "81e317d6"
      },
      "outputs": [],
      "source": []
    },
    {
      "cell_type": "markdown",
      "id": "e76e2332",
      "metadata": {
        "id": "e76e2332"
      },
      "source": [
        "##### Content rating vs type"
      ]
    },
    {
      "cell_type": "code",
      "execution_count": 225,
      "id": "6b34f6d6",
      "metadata": {
        "colab": {
          "base_uri": "https://localhost:8080/"
        },
        "id": "6b34f6d6",
        "outputId": "94d31932-6b63-4974-be1a-67db69a3d99a"
      },
      "outputs": [
        {
          "output_type": "execute_result",
          "data": {
            "text/plain": [
              "Content Rating\n",
              "Adults only 18+    1.000000\n",
              "Everyone           0.928108\n",
              "Everyone 10+       0.916877\n",
              "Mature 17+         0.963124\n",
              "Teen               0.959372\n",
              "Unrated            1.000000\n",
              "Name: Type_flag, dtype: float64"
            ]
          },
          "metadata": {},
          "execution_count": 225
        }
      ],
      "source": [
        "inp1.groupby(['Content Rating'])['Type_flag'].mean()"
      ]
    },
    {
      "cell_type": "code",
      "execution_count": 226,
      "id": "bdc9bea0",
      "metadata": {
        "colab": {
          "base_uri": "https://localhost:8080/",
          "height": 428
        },
        "id": "bdc9bea0",
        "outputId": "f3b59147-cbf3-463a-8431-383a0ae73500"
      },
      "outputs": [
        {
          "output_type": "display_data",
          "data": {
            "text/plain": [
              "<Figure size 720x504 with 1 Axes>"
            ],
            "image/png": "[encoded data removed]"
          },
          "metadata": {
            "needs_background": "light"
          }
        }
      ],
      "source": [
        "plt.figure(figsize = (10,7))\n",
        "inp1.groupby(['Content Rating'])['Type_flag'].mean().plot.barh(color = ['Red' , 'Cyan' , 'Blue' , 'Green' , 'Orange' , 'Grey'])\n",
        "plt.show()"
      ]
    },
    {
      "cell_type": "markdown",
      "id": "8db004bf",
      "metadata": {
        "id": "8db004bf"
      },
      "source": [
        "### STATISTICAL  ANALYSIS"
      ]
    },
    {
      "cell_type": "markdown",
      "id": "efe399c7",
      "metadata": {
        "id": "efe399c7"
      },
      "source": [
        "### For category coloumn"
      ]
    },
    {
      "cell_type": "code",
      "execution_count": 227,
      "id": "6b3b3c98",
      "metadata": {
        "scrolled": true,
        "colab": {
          "base_uri": "https://localhost:8080/",
          "height": 561
        },
        "id": "6b3b3c98",
        "outputId": "dfbeed14-ff31-4b67-b0d4-21880731476e"
      },
      "outputs": [
        {
          "output_type": "execute_result",
          "data": {
            "text/plain": [
              "<matplotlib.axes._subplots.AxesSubplot at 0x7f1f5b672dd0>"
            ]
          },
          "metadata": {},
          "execution_count": 227
        },
        {
          "output_type": "display_data",
          "data": {
            "text/plain": [
              "<Figure size 720x504 with 1 Axes>"
            ],
            "image/png": "[encoded data removed]"
          },
          "metadata": {
            "needs_background": "light"
          }
        }
      ],
      "source": [
        "plt.figure(figsize=(10,7))\n",
        "inp1.Category.value_counts().plot.bar(color = ['Orange' , 'Green'])"
      ]
    },
    {
      "cell_type": "code",
      "execution_count": 228,
      "id": "24ece8c5",
      "metadata": {
        "colab": {
          "base_uri": "https://localhost:8080/"
        },
        "id": "24ece8c5",
        "outputId": "0bea3d48-11b8-426f-dcbe-d866f5e90373"
      },
      "outputs": [
        {
          "output_type": "execute_result",
          "data": {
            "text/plain": [
              "283.1818181818182"
            ]
          },
          "metadata": {},
          "execution_count": 228
        }
      ],
      "source": [
        "inp1.Category.value_counts().mean()"
      ]
    },
    {
      "cell_type": "markdown",
      "id": "e2fb1833",
      "metadata": {
        "id": "e2fb1833"
      },
      "source": [
        "#### Heighest and lowest Range of Category of apps avialable in play store"
      ]
    },
    {
      "cell_type": "code",
      "execution_count": 229,
      "id": "78e29a35",
      "metadata": {
        "scrolled": true,
        "colab": {
          "base_uri": "https://localhost:8080/"
        },
        "id": "78e29a35",
        "outputId": "30a51df3-bce4-40e1-b14c-882139ee1737"
      },
      "outputs": [
        {
          "output_type": "stream",
          "name": "stdout",
          "text": [
            "1743-42\n"
          ]
        }
      ],
      "source": [
        "print(str(inp1.Category.value_counts().max()) + '-' + str(inp1.Category.value_counts().min()) )"
      ]
    },
    {
      "cell_type": "markdown",
      "id": "635df0f7",
      "metadata": {
        "id": "635df0f7"
      },
      "source": [
        "### TYPE OF APPS (FREE / PAID)"
      ]
    },
    {
      "cell_type": "code",
      "execution_count": 230,
      "id": "2251c9b1",
      "metadata": {
        "colab": {
          "base_uri": "https://localhost:8080/",
          "height": 545
        },
        "id": "2251c9b1",
        "outputId": "410f2259-9446-455d-d830-e248cc4a5dcc"
      },
      "outputs": [
        {
          "output_type": "execute_result",
          "data": {
            "text/plain": [
              "<matplotlib.axes._subplots.AxesSubplot at 0x7f1f5bf54a50>"
            ]
          },
          "metadata": {},
          "execution_count": 230
        },
        {
          "output_type": "display_data",
          "data": {
            "text/plain": [
              "<Figure size 3600x1440 with 1 Axes>"
            ],
            "image/png": "[encoded data removed]"
          },
          "metadata": {
            "needs_background": "light"
          }
        }
      ],
      "source": [
        "plt.figure(figsize=(50,20))\n",
        "inp1.Genres.value_counts().plot.bar(color = ['Orange' , 'Green' , 'Red' , 'Blue' ,  'Grey'])"
      ]
    },
    {
      "cell_type": "code",
      "execution_count": 231,
      "id": "6615029e",
      "metadata": {
        "colab": {
          "base_uri": "https://localhost:8080/"
        },
        "id": "6615029e",
        "outputId": "17435846-7a8f-48b3-fcea-53d57314b6b3"
      },
      "outputs": [
        {
          "output_type": "execute_result",
          "data": {
            "text/plain": [
              "81.26086956521739"
            ]
          },
          "metadata": {},
          "execution_count": 231
        }
      ],
      "source": [
        "inp1.Genres.value_counts().mean()"
      ]
    },
    {
      "cell_type": "markdown",
      "id": "30d1219d",
      "metadata": {
        "id": "30d1219d"
      },
      "source": [
        "#### Heighest and lowest Range of Generes of apps avialable in play store"
      ]
    },
    {
      "cell_type": "code",
      "execution_count": 232,
      "id": "88ef5b16",
      "metadata": {
        "scrolled": true,
        "colab": {
          "base_uri": "https://localhost:8080/"
        },
        "id": "88ef5b16",
        "outputId": "f16bdd8e-5df3-4d61-d49c-fe449f83716e"
      },
      "outputs": [
        {
          "output_type": "stream",
          "name": "stdout",
          "text": [
            "733-1\n"
          ]
        }
      ],
      "source": [
        "print(str(inp1.Genres.value_counts().max()) + '-' + str(inp1.Genres.value_counts().min()) )"
      ]
    }
  ],
  "metadata": {
    "kernelspec": {
      "display_name": "Python 3 (ipykernel)",
      "language": "python",
      "name": "python3"
    },
    "language_info": {
      "codemirror_mode": {
        "name": "ipython",
        "version": 3
      },
      "file_extension": ".py",
      "mimetype": "text/x-python",
      "name": "python",
      "nbconvert_exporter": "python",
      "pygments_lexer": "ipython3",
      "version": "3.9.7"
    },
    "colab": {
      "provenance": [],
      "toc_visible": true,
      "include_colab_link": true
    }
  },
  "nbformat": 4,
  "nbformat_minor": 5
}